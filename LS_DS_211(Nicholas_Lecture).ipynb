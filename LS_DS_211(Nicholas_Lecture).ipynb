{
  "nbformat": 4,
  "nbformat_minor": 0,
  "metadata": {
    "colab": {
      "name": "Unit_2_Linear_Regression (Nicholas Lecture).ipynb",
      "provenance": [],
      "include_colab_link": true
    },
    "kernelspec": {
      "name": "python3",
      "display_name": "Python 3"
    }
  },
  "cells": [
    {
      "cell_type": "markdown",
      "metadata": {
        "id": "view-in-github",
        "colab_type": "text"
      },
      "source": [
        "<a href=\"https://colab.research.google.com/github/andrew-ryabchenko/DS-Unit-2-Linear-Models/blob/master/Unit_2_Sprint_One_Linear_Models_(Nicholas_Lecture).ipynb\" target=\"_parent\"><img src=\"https://colab.research.google.com/assets/colab-badge.svg\" alt=\"Open In Colab\"/></a>"
      ]
    },
    {
      "cell_type": "code",
      "metadata": {
        "id": "5Lu2tfI7aaOp"
      },
      "source": [
        "import sys\n",
        "\n",
        "# If you're on Colab:\n",
        "if 'google.colab' in sys.modules:\n",
        "    DATA_PATH = 'https://raw.githubusercontent.com/LambdaSchool/DS-Unit-2-Applied-Modeling/master/data/'\n",
        "\n",
        "# If you're working locally:\n",
        "else:\n",
        "    DATA_PATH = '../data/'\n",
        "    \n",
        "# Ignore this Numpy warning when using Plotly Express:\n",
        "# FutureWarning: Method .ptp is deprecated and will be removed in a future version. Use numpy.ptp instead.\n",
        "import warnings\n",
        "warnings.filterwarnings(action='ignore', category=FutureWarning, module='numpy')"
      ],
      "execution_count": null,
      "outputs": []
    },
    {
      "cell_type": "markdown",
      "metadata": {
        "id": "DGX7HJVFiEJn"
      },
      "source": [
        "# 1. Wrangle Data"
      ]
    },
    {
      "cell_type": "markdown",
      "metadata": {
        "id": "qrEzNFsDiN92"
      },
      "source": [
        "# 1.1 Import Data"
      ]
    },
    {
      "cell_type": "code",
      "metadata": {
        "id": "Hh4gzYw5hjzi"
      },
      "source": [
        "import pandas as pd\n",
        "\n",
        "dtype_dict = {'ZIP_CODE': 'object', 'SALE_PRICE': float}\n",
        "\n",
        "df = pd.read_csv(DATA_PATH + 'condos/tribeca.csv', \n",
        "                 parse_dates=['SALE_DATE'],\n",
        "                 index_col='SALE_DATE',\n",
        "                 na_values=0.0,\n",
        "                 dtype=dtype_dict)"
      ],
      "execution_count": null,
      "outputs": []
    },
    {
      "cell_type": "markdown",
      "metadata": {
        "id": "pmJFpLDVi0Lu"
      },
      "source": [
        "## 1.2 EDA"
      ]
    },
    {
      "cell_type": "code",
      "metadata": {
        "id": "-jsdCGEfie1Q",
        "outputId": "8dc5154b-5381-4b23-ef09-191d8e722db8",
        "colab": {
          "base_uri": "https://localhost:8080/",
          "height": 237
        }
      },
      "source": [
        "df.head()"
      ],
      "execution_count": null,
      "outputs": [
        {
          "output_type": "execute_result",
          "data": {
            "text/html": [
              "<div>\n",
              "<style scoped>\n",
              "    .dataframe tbody tr th:only-of-type {\n",
              "        vertical-align: middle;\n",
              "    }\n",
              "\n",
              "    .dataframe tbody tr th {\n",
              "        vertical-align: top;\n",
              "    }\n",
              "\n",
              "    .dataframe thead th {\n",
              "        text-align: right;\n",
              "    }\n",
              "</style>\n",
              "<table border=\"1\" class=\"dataframe\">\n",
              "  <thead>\n",
              "    <tr style=\"text-align: right;\">\n",
              "      <th></th>\n",
              "      <th>NEIGHBORHOOD</th>\n",
              "      <th>BUILDING_CLASS_CATEGORY</th>\n",
              "      <th>ADDRESS</th>\n",
              "      <th>APARTMENT_NUMBER</th>\n",
              "      <th>ZIP_CODE</th>\n",
              "      <th>GROSS_SQUARE_FEET</th>\n",
              "      <th>YEAR_BUILT</th>\n",
              "      <th>SALE_PRICE</th>\n",
              "    </tr>\n",
              "    <tr>\n",
              "      <th>SALE_DATE</th>\n",
              "      <th></th>\n",
              "      <th></th>\n",
              "      <th></th>\n",
              "      <th></th>\n",
              "      <th></th>\n",
              "      <th></th>\n",
              "      <th></th>\n",
              "      <th></th>\n",
              "    </tr>\n",
              "  </thead>\n",
              "  <tbody>\n",
              "    <tr>\n",
              "      <th>2019-01-03</th>\n",
              "      <td>TRIBECA</td>\n",
              "      <td>13 CONDOS - ELEVATOR APARTMENTS</td>\n",
              "      <td>181 HUDSON STREET, 6D</td>\n",
              "      <td>6D</td>\n",
              "      <td>10013.0</td>\n",
              "      <td>1840.0</td>\n",
              "      <td>1909.0</td>\n",
              "      <td>2800000</td>\n",
              "    </tr>\n",
              "    <tr>\n",
              "      <th>2019-01-07</th>\n",
              "      <td>TRIBECA</td>\n",
              "      <td>13 CONDOS - ELEVATOR APARTMENTS</td>\n",
              "      <td>10 LITTLE WEST STREET, 19A</td>\n",
              "      <td>19A</td>\n",
              "      <td>10004.0</td>\n",
              "      <td>1759.0</td>\n",
              "      <td>NaN</td>\n",
              "      <td>2650000</td>\n",
              "    </tr>\n",
              "    <tr>\n",
              "      <th>2019-01-09</th>\n",
              "      <td>TRIBECA</td>\n",
              "      <td>13 CONDOS - ELEVATOR APARTMENTS</td>\n",
              "      <td>30 LITTLE WEST STREET, 7G</td>\n",
              "      <td>7G</td>\n",
              "      <td>10004.0</td>\n",
              "      <td>1190.0</td>\n",
              "      <td>2005.0</td>\n",
              "      <td>1005000</td>\n",
              "    </tr>\n",
              "    <tr>\n",
              "      <th>2019-01-10</th>\n",
              "      <td>TRIBECA</td>\n",
              "      <td>13 CONDOS - ELEVATOR APARTMENTS</td>\n",
              "      <td>2 RIVER TERRACE, 4C</td>\n",
              "      <td>4C</td>\n",
              "      <td>NaN</td>\n",
              "      <td>1088.0</td>\n",
              "      <td>2006.0</td>\n",
              "      <td>1678000</td>\n",
              "    </tr>\n",
              "    <tr>\n",
              "      <th>2019-01-11</th>\n",
              "      <td>TRIBECA</td>\n",
              "      <td>13 CONDOS - ELEVATOR APARTMENTS</td>\n",
              "      <td>380 RECTOR PLACE, 10A</td>\n",
              "      <td>10A</td>\n",
              "      <td>10280.0</td>\n",
              "      <td>873.0</td>\n",
              "      <td>NaN</td>\n",
              "      <td>1380000</td>\n",
              "    </tr>\n",
              "  </tbody>\n",
              "</table>\n",
              "</div>"
            ],
            "text/plain": [
              "           NEIGHBORHOOD  ... SALE_PRICE\n",
              "SALE_DATE                ...           \n",
              "2019-01-03      TRIBECA  ...    2800000\n",
              "2019-01-07      TRIBECA  ...    2650000\n",
              "2019-01-09      TRIBECA  ...    1005000\n",
              "2019-01-10      TRIBECA  ...    1678000\n",
              "2019-01-11      TRIBECA  ...    1380000\n",
              "\n",
              "[5 rows x 8 columns]"
            ]
          },
          "metadata": {
            "tags": []
          },
          "execution_count": 4
        }
      ]
    },
    {
      "cell_type": "code",
      "metadata": {
        "id": "2N40ucYvjcGY",
        "outputId": "91ad9933-03cd-490c-ef91-0088774ef14c",
        "colab": {
          "base_uri": "https://localhost:8080/",
          "height": 294
        }
      },
      "source": [
        "df.info()"
      ],
      "execution_count": null,
      "outputs": [
        {
          "output_type": "stream",
          "text": [
            "<class 'pandas.core.frame.DataFrame'>\n",
            "DatetimeIndex: 90 entries, 2019-01-03 to 2019-04-30\n",
            "Data columns (total 8 columns):\n",
            " #   Column                   Non-Null Count  Dtype  \n",
            "---  ------                   --------------  -----  \n",
            " 0   NEIGHBORHOOD             90 non-null     object \n",
            " 1   BUILDING_CLASS_CATEGORY  90 non-null     object \n",
            " 2   ADDRESS                  90 non-null     object \n",
            " 3   APARTMENT_NUMBER         90 non-null     object \n",
            " 4   ZIP_CODE                 86 non-null     object \n",
            " 5   GROSS_SQUARE_FEET        90 non-null     float64\n",
            " 6   YEAR_BUILT               72 non-null     float64\n",
            " 7   SALE_PRICE               90 non-null     int64  \n",
            "dtypes: float64(2), int64(1), object(5)\n",
            "memory usage: 6.3+ KB\n"
          ],
          "name": "stdout"
        }
      ]
    },
    {
      "cell_type": "markdown",
      "metadata": {
        "id": "tgmgBejUnrTv"
      },
      "source": [
        "**Our Focus:** Is the relationship between sq footage and price"
      ]
    },
    {
      "cell_type": "code",
      "metadata": {
        "id": "qz0o7-jfi_QG"
      },
      "source": [
        "import matplotlib.pyplot as plt"
      ],
      "execution_count": null,
      "outputs": []
    },
    {
      "cell_type": "code",
      "metadata": {
        "id": "rbZ_RiF6n2l6",
        "outputId": "878a100c-cbf2-4bc6-d9a8-b13067a6250f",
        "colab": {
          "base_uri": "https://localhost:8080/",
          "height": 295
        }
      },
      "source": [
        "df['GROSS_SQUARE_FEET'].plot(kind='hist')\n",
        "plt.xlabel('square footage')\n",
        "plt.title('Distibution of Condo Sizes');"
      ],
      "execution_count": null,
      "outputs": [
        {
          "output_type": "display_data",
          "data": {
            "image/png": "[encoded data removed]",
            "text/plain": [
              "<Figure size 432x288 with 1 Axes>"
            ]
          },
          "metadata": {
            "tags": [],
            "needs_background": "light"
          }
        }
      ]
    },
    {
      "cell_type": "code",
      "metadata": {
        "id": "uTOn0gdroDEv",
        "outputId": "a6519714-3c7b-441c-cd43-2e635b47a5fc",
        "colab": {
          "base_uri": "https://localhost:8080/",
          "height": 376
        }
      },
      "source": [
        "plt.style.use('seaborn')\n",
        "df['SALE_PRICE'].plot(kind='hist')\n",
        "plt.xlabel('sale price')\n",
        "plt.title('Distribution of Condo Prices');"
      ],
      "execution_count": null,
      "outputs": [
        {
          "output_type": "display_data",
          "data": {
            "image/png": "[encoded data removed]",
            "text/plain": [
              "<Figure size 576x396 with 1 Axes>"
            ]
          },
          "metadata": {
            "tags": []
          }
        }
      ]
    },
    {
      "cell_type": "code",
      "metadata": {
        "id": "l9Jj1sHhofwz",
        "outputId": "a480219f-9e35-46d3-b3df-f73838fc95bc",
        "colab": {
          "base_uri": "https://localhost:8080/",
          "height": 372
        }
      },
      "source": [
        "plt.scatter(df['GROSS_SQUARE_FEET'], df['SALE_PRICE'])\n",
        "plt.xlabel('sq ft')\n",
        "plt.ylabel('sale price [$10 million]');"
      ],
      "execution_count": null,
      "outputs": [
        {
          "output_type": "display_data",
          "data": {
            "image/png": "[encoded data removed]",
            "text/plain": [
              "<Figure size 576x396 with 1 Axes>"
            ]
          },
          "metadata": {
            "tags": []
          }
        }
      ]
    },
    {
      "cell_type": "markdown",
      "metadata": {
        "id": "QMKGjKqppyZ1"
      },
      "source": [
        "# Interlude: What is a predictive model?\n",
        "\n",
        "Is a way to create an mathmatical equation that describes the relationship between *sq footage* and *sale price*.\n",
        "\n",
        "Based on the first row of our data set, we create a **function** that takes `'GROSS_SQUARE_FEET'` as input and returns an estimate of `'SALE_PRICE'`."
      ]
    },
    {
      "cell_type": "code",
      "metadata": {
        "id": "EkDYiZzAoyEO"
      },
      "source": [
        "def price_predictor(sqft):\n",
        "  # What's the equation that takes `sqft` and turns it into `sale_price`?\n",
        "  sale_price = sqft * 1521\n",
        "  return sale_price"
      ],
      "execution_count": null,
      "outputs": []
    },
    {
      "cell_type": "markdown",
      "metadata": {
        "id": "mn-GjwBLvZd-"
      },
      "source": [
        "Next, we use the `apply` method to generate predictions for the entire dataset."
      ]
    },
    {
      "cell_type": "code",
      "metadata": {
        "id": "wAqDL5AurBHX"
      },
      "source": [
        "df['EST_PRICE'] = df['GROSS_SQUARE_FEET'].apply(price_predictor)"
      ],
      "execution_count": null,
      "outputs": []
    },
    {
      "cell_type": "code",
      "metadata": {
        "id": "evC_ij2kriQi",
        "outputId": "732b9a92-f165-4256-930d-f2e99b4f5d3f",
        "colab": {
          "base_uri": "https://localhost:8080/",
          "height": 290
        }
      },
      "source": [
        "plt.scatter(df['GROSS_SQUARE_FEET'], df['SALE_PRICE'])\n",
        "plt.plot(df['GROSS_SQUARE_FEET'], df['EST_PRICE'], color='r', label='our model')\n",
        "plt.legend()\n",
        "plt.xlabel('sq ft')\n",
        "plt.ylabel('sale price [$10 million]');"
      ],
      "execution_count": null,
      "outputs": [
        {
          "output_type": "display_data",
          "data": {
            "image/png": "[encoded data removed]",
            "text/plain": [
              "<Figure size 432x288 with 1 Axes>"
            ]
          },
          "metadata": {
            "tags": [],
            "needs_background": "light"
          }
        }
      ]
    },
    {
      "cell_type": "markdown",
      "metadata": {
        "id": "IrZQdr1Et7OK"
      },
      "source": [
        "Then we look calculate the **absolute** difference between the true values for `'SALE_PRICE'` and our predictions."
      ]
    },
    {
      "cell_type": "code",
      "metadata": {
        "id": "6hWEMIbgsqLT"
      },
      "source": [
        "df['ERROR'] = abs(df['SALE_PRICE'] - df['EST_PRICE'])"
      ],
      "execution_count": null,
      "outputs": []
    },
    {
      "cell_type": "code",
      "metadata": {
        "id": "KSE7Ykg0qZdV",
        "outputId": "f5245b16-6e19-4867-a928-5e9bf7bb0695",
        "colab": {
          "base_uri": "https://localhost:8080/",
          "height": 233
        }
      },
      "source": [
        "df[['GROSS_SQUARE_FEET','EST_PRICE', 'SALE_PRICE', 'ERROR']].head(5)"
      ],
      "execution_count": null,
      "outputs": [
        {
          "output_type": "execute_result",
          "data": {
            "text/html": [
              "<div>\n",
              "<style scoped>\n",
              "    .dataframe tbody tr th:only-of-type {\n",
              "        vertical-align: middle;\n",
              "    }\n",
              "\n",
              "    .dataframe tbody tr th {\n",
              "        vertical-align: top;\n",
              "    }\n",
              "\n",
              "    .dataframe thead th {\n",
              "        text-align: right;\n",
              "    }\n",
              "</style>\n",
              "<table border=\"1\" class=\"dataframe\">\n",
              "  <thead>\n",
              "    <tr style=\"text-align: right;\">\n",
              "      <th></th>\n",
              "      <th>GROSS_SQUARE_FEET</th>\n",
              "      <th>EST_PRICE</th>\n",
              "      <th>SALE_PRICE</th>\n",
              "      <th>ERROR</th>\n",
              "    </tr>\n",
              "    <tr>\n",
              "      <th>SALE_DATE</th>\n",
              "      <th></th>\n",
              "      <th></th>\n",
              "      <th></th>\n",
              "      <th></th>\n",
              "    </tr>\n",
              "  </thead>\n",
              "  <tbody>\n",
              "    <tr>\n",
              "      <th>2019-01-03</th>\n",
              "      <td>1840.0</td>\n",
              "      <td>2798640.0</td>\n",
              "      <td>2800000</td>\n",
              "      <td>1360.0</td>\n",
              "    </tr>\n",
              "    <tr>\n",
              "      <th>2019-01-07</th>\n",
              "      <td>1759.0</td>\n",
              "      <td>2675439.0</td>\n",
              "      <td>2650000</td>\n",
              "      <td>25439.0</td>\n",
              "    </tr>\n",
              "    <tr>\n",
              "      <th>2019-01-09</th>\n",
              "      <td>1190.0</td>\n",
              "      <td>1809990.0</td>\n",
              "      <td>1005000</td>\n",
              "      <td>804990.0</td>\n",
              "    </tr>\n",
              "    <tr>\n",
              "      <th>2019-01-10</th>\n",
              "      <td>1088.0</td>\n",
              "      <td>1654848.0</td>\n",
              "      <td>1678000</td>\n",
              "      <td>23152.0</td>\n",
              "    </tr>\n",
              "    <tr>\n",
              "      <th>2019-01-11</th>\n",
              "      <td>873.0</td>\n",
              "      <td>1327833.0</td>\n",
              "      <td>1380000</td>\n",
              "      <td>52167.0</td>\n",
              "    </tr>\n",
              "  </tbody>\n",
              "</table>\n",
              "</div>"
            ],
            "text/plain": [
              "            GROSS_SQUARE_FEET  EST_PRICE  SALE_PRICE     ERROR\n",
              "SALE_DATE                                                     \n",
              "2019-01-03             1840.0  2798640.0     2800000    1360.0\n",
              "2019-01-07             1759.0  2675439.0     2650000   25439.0\n",
              "2019-01-09             1190.0  1809990.0     1005000  804990.0\n",
              "2019-01-10             1088.0  1654848.0     1678000   23152.0\n",
              "2019-01-11              873.0  1327833.0     1380000   52167.0"
            ]
          },
          "metadata": {
            "tags": []
          },
          "execution_count": 49
        }
      ]
    },
    {
      "cell_type": "markdown",
      "metadata": {
        "id": "wyP8LYrCuRjz"
      },
      "source": [
        "Finally, we take the mean of those errors to calculate the metric **MEAN ABSOLUTE ERROR**."
      ]
    },
    {
      "cell_type": "code",
      "metadata": {
        "id": "St80QKsEtQRx",
        "outputId": "ac91337c-6a25-43eb-caff-623bf85f0ccf",
        "colab": {
          "base_uri": "https://localhost:8080/",
          "height": 35
        }
      },
      "source": [
        "df['ERROR'].mean()"
      ],
      "execution_count": null,
      "outputs": [
        {
          "output_type": "execute_result",
          "data": {
            "text/plain": [
              "1502401.6333333333"
            ]
          },
          "metadata": {
            "tags": []
          },
          "execution_count": 50
        }
      ]
    },
    {
      "cell_type": "markdown",
      "metadata": {
        "id": "xW8GkJOox88Y"
      },
      "source": [
        "# 2. Split Data\n",
        "\n",
        "## 2.1. Split our **target vector** from our **feature matrix**."
      ]
    },
    {
      "cell_type": "code",
      "metadata": {
        "id": "4i9ZoaIH3MzB"
      },
      "source": [
        "import numpy as np"
      ],
      "execution_count": null,
      "outputs": []
    },
    {
      "cell_type": "code",
      "metadata": {
        "id": "K6BQor_nx8Y5"
      },
      "source": [
        "#Target Vector\n",
        "target = 'SALE_PRICE'\n",
        "y = np.array(df[target])\n",
        "\n",
        "#Feature Matrix\n",
        "X = np.array(df[['GROSS_SQUARE_FEET']])"
      ],
      "execution_count": null,
      "outputs": []
    },
    {
      "cell_type": "code",
      "metadata": {
        "id": "8FtBxDeNr8sl",
        "outputId": "7a2e26db-a5ff-413d-ed8f-ebe62dd4b224",
        "colab": {
          "base_uri": "https://localhost:8080/",
          "height": 35
        }
      },
      "source": [
        "# Your `y` should be one-dimentional\n",
        "y.shape"
      ],
      "execution_count": null,
      "outputs": [
        {
          "output_type": "execute_result",
          "data": {
            "text/plain": [
              "(90,)"
            ]
          },
          "metadata": {
            "tags": []
          },
          "execution_count": 32
        }
      ]
    },
    {
      "cell_type": "code",
      "metadata": {
        "id": "lXu46TXdyySS",
        "outputId": "a109a624-9fc1-4124-b2df-ee418434610b",
        "colab": {
          "base_uri": "https://localhost:8080/",
          "height": 35
        }
      },
      "source": [
        "# Your `X` should be two-dimentional\n",
        "X.shape"
      ],
      "execution_count": null,
      "outputs": [
        {
          "output_type": "execute_result",
          "data": {
            "text/plain": [
              "(90, 1)"
            ]
          },
          "metadata": {
            "tags": []
          },
          "execution_count": 33
        }
      ]
    },
    {
      "cell_type": "markdown",
      "metadata": {
        "id": "VXDVLaDbzMxL"
      },
      "source": [
        "# 3. Establish a Baseline\n",
        "\n",
        "Since this is a **regression** problem, we need to calculate what the **mean absolute error** would be is we only predicted the mean `'SALE_PRICE'`."
      ]
    },
    {
      "cell_type": "code",
      "metadata": {
        "id": "5yH51xJ5zMNU",
        "outputId": "bea772ae-93fa-4876-9d9f-71399d726e10",
        "colab": {
          "base_uri": "https://localhost:8080/",
          "height": 35
        }
      },
      "source": [
        "y.mean()"
      ],
      "execution_count": null,
      "outputs": [
        {
          "output_type": "execute_result",
          "data": {
            "text/plain": [
              "3928736.3666666667"
            ]
          },
          "metadata": {
            "tags": []
          },
          "execution_count": 64
        }
      ]
    },
    {
      "cell_type": "code",
      "metadata": {
        "id": "rawXhhQI6Gw1",
        "outputId": "5285eca6-3635-4c32-d2a1-9cbdefca6f5d",
        "colab": {
          "base_uri": "https://localhost:8080/",
          "height": 372
        }
      },
      "source": [
        "plt.scatter(df['GROSS_SQUARE_FEET'], df['SALE_PRICE'])\n",
        "plt.plot(df['GROSS_SQUARE_FEET'], df['EST_PRICE'], color='r', label='our model')\n",
        "plt.legend()\n",
        "plt.xlabel('sq ft')\n",
        "plt.ylabel('sale price [$10 million]');"
      ],
      "execution_count": null,
      "outputs": [
        {
          "output_type": "display_data",
          "data": {
            "image/png": "[encoded data removed]",
            "text/plain": [
              "<Figure size 576x396 with 1 Axes>"
            ]
          },
          "metadata": {
            "tags": []
          }
        }
      ]
    },
    {
      "cell_type": "code",
      "metadata": {
        "id": "Ro-Z2RszylLY"
      },
      "source": [
        "from sklearn.metrics import mean_absolute_error"
      ],
      "execution_count": null,
      "outputs": []
    },
    {
      "cell_type": "code",
      "metadata": {
        "id": "V7ZxUUA3zsOZ",
        "outputId": "c498571e-986e-415f-9712-fbea079d87f6",
        "colab": {
          "base_uri": "https://localhost:8080/",
          "height": 35
        }
      },
      "source": [
        "print('BASELINE MAE:', mean_absolute_error(y, [y.mean()]*len(y)))"
      ],
      "execution_count": null,
      "outputs": [
        {
          "output_type": "stream",
          "text": [
            "BASELINE MAE: 2783380.1977777784\n"
          ],
          "name": "stdout"
        }
      ]
    },
    {
      "cell_type": "markdown",
      "metadata": {
        "id": "2OsbBKVy0XcQ"
      },
      "source": [
        "# 4. Build Model"
      ]
    },
    {
      "cell_type": "code",
      "metadata": {
        "id": "Pqt32GqrzudH"
      },
      "source": [
        "# Step 1: Import your predictor\n",
        "from sklearn.linear_model import LinearRegression"
      ],
      "execution_count": null,
      "outputs": []
    },
    {
      "cell_type": "code",
      "metadata": {
        "id": "ubYHvNtQ0kiD"
      },
      "source": [
        "# Step 2: Instantiate your predictor\n",
        "model = LinearRegression()"
      ],
      "execution_count": null,
      "outputs": []
    },
    {
      "cell_type": "code",
      "metadata": {
        "id": "Lkemhxtd0qOA",
        "outputId": "2d51f819-ff58-4bb1-d1cb-b5801e4146af",
        "colab": {
          "base_uri": "https://localhost:8080/",
          "height": 35
        }
      },
      "source": [
        "# Step 3: Train your model with the data\n",
        "model.fit(X, y)"
      ],
      "execution_count": null,
      "outputs": [
        {
          "output_type": "execute_result",
          "data": {
            "text/plain": [
              "LinearRegression(copy_X=True, fit_intercept=True, n_jobs=None, normalize=False)"
            ]
          },
          "metadata": {
            "tags": []
          },
          "execution_count": 47
        }
      ]
    },
    {
      "cell_type": "code",
      "metadata": {
        "id": "xHjlHYe40ze6"
      },
      "source": [
        "# Step 4: Predict\n",
        "y_pred = model.predict(X)"
      ],
      "execution_count": null,
      "outputs": []
    },
    {
      "cell_type": "markdown",
      "metadata": {
        "id": "mvXF9ljd1KKm"
      },
      "source": [
        "# 5. Check Metrics"
      ]
    },
    {
      "cell_type": "code",
      "metadata": {
        "id": "9FQX0MSf0_x2",
        "outputId": "3995dfae-c79a-4679-99d5-52e75a336afa",
        "colab": {
          "base_uri": "https://localhost:8080/",
          "height": 35
        }
      },
      "source": [
        "print('TRAINING MAE:', mean_absolute_error(y, y_pred))"
      ],
      "execution_count": null,
      "outputs": [
        {
          "output_type": "stream",
          "text": [
            "TRAINING MAE: 1176817.9930150746\n"
          ],
          "name": "stdout"
        }
      ]
    },
    {
      "cell_type": "markdown",
      "metadata": {
        "id": "QGeaWvwn1gfs"
      },
      "source": [
        "# 6. Interpreting Model"
      ]
    },
    {
      "cell_type": "code",
      "metadata": {
        "id": "UCwW2Koa1XYH",
        "outputId": "d105139d-9832-4465-85ac-871ff4bfb6b9",
        "colab": {
          "base_uri": "https://localhost:8080/",
          "height": 35
        }
      },
      "source": [
        "model.coef_"
      ],
      "execution_count": null,
      "outputs": [
        {
          "output_type": "execute_result",
          "data": {
            "text/plain": [
              "array([3076.44765542])"
            ]
          },
          "metadata": {
            "tags": []
          },
          "execution_count": 79
        }
      ]
    },
    {
      "cell_type": "code",
      "metadata": {
        "id": "hvCetYhY1w5N",
        "outputId": "205c466a-7b1b-4d65-e406-9ceb84f74a42",
        "colab": {
          "base_uri": "https://localhost:8080/",
          "height": 35
        }
      },
      "source": [
        "model.intercept_"
      ],
      "execution_count": null,
      "outputs": [
        {
          "output_type": "execute_result",
          "data": {
            "text/plain": [
              "-1505364.0408585514"
            ]
          },
          "metadata": {
            "tags": []
          },
          "execution_count": 80
        }
      ]
    },
    {
      "cell_type": "code",
      "metadata": {
        "id": "gyyY0viV1zTw",
        "outputId": "32d24838-9df6-4840-eb51-8e1442023a82",
        "colab": {
          "base_uri": "https://localhost:8080/",
          "height": 290
        }
      },
      "source": [
        "plt.scatter(X, y)\n",
        "plt.plot(X, y_pred, color='r', label='our model')\n",
        "plt.legend()\n",
        "plt.xlabel('sq ft')\n",
        "plt.ylabel('sale price [$10 million]');"
      ],
      "execution_count": null,
      "outputs": [
        {
          "output_type": "display_data",
          "data": {
            "image/png": "[encoded data removed]",
            "text/plain": [
              "<Figure size 432x288 with 1 Axes>"
            ]
          },
          "metadata": {
            "tags": [],
            "needs_background": "light"
          }
        }
      ]
    },
    {
      "cell_type": "code",
      "metadata": {
        "id": "sRASF4RQ2P4G"
      },
      "source": [
        ""
      ],
      "execution_count": null,
      "outputs": []
    }
  ]
}
