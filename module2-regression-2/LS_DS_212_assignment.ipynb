{
  "nbformat": 4,
  "nbformat_minor": 0,
  "metadata": {
    "kernelspec": {
      "display_name": "Python 3",
      "language": "python",
      "name": "python3"
    },
    "language_info": {
      "codemirror_mode": {
        "name": "ipython",
        "version": 3
      },
      "file_extension": ".py",
      "mimetype": "text/x-python",
      "name": "python",
      "nbconvert_exporter": "python",
      "pygments_lexer": "ipython3",
      "version": "3.7.3"
    },
    "colab": {
      "name": "LS_DS_212_assignment.ipynb",
      "provenance": [],
      "collapsed_sections": [],
      "include_colab_link": true
    }
  },
  "cells": [
    {
      "cell_type": "markdown",
      "metadata": {
        "id": "view-in-github",
        "colab_type": "text"
      },
      "source": [
        "<a href=\"https://colab.research.google.com/github/andrew-ryabchenko/DS-Unit-2-Linear-Models/blob/master/module2-regression-2/LS_DS_212_assignment.ipynb\" target=\"_parent\"><img src=\"https://colab.research.google.com/assets/colab-badge.svg\" alt=\"Open In Colab\"/></a>"
      ]
    },
    {
      "cell_type": "markdown",
      "metadata": {
        "id": "4ZYN6iWYY3cb"
      },
      "source": [
        "Lambda School Data Science\n",
        "\n",
        "*Unit 2, Sprint 1, Module 2*\n",
        "\n",
        "---"
      ]
    },
    {
      "cell_type": "markdown",
      "metadata": {
        "id": "7IXUfiQ2UKj6"
      },
      "source": [
        "# Regression 2\n",
        "\n",
        "## Assignment\n",
        "\n",
        "You'll continue to **predict how much it costs to rent an apartment in NYC,** using the dataset from renthop.com.\n",
        "\n",
        "- [ ] Do train/test split. Use data from April & May 2016 to train. Use data from June 2016 to test.\n",
        "- [ ] Engineer at least two new features. (See below for explanation & ideas.)\n",
        "- [ ] Fit a linear regression model with at least two features.\n",
        "- [ ] Get the model's coefficients and intercept.\n",
        "- [ ] Get regression metrics RMSE, MAE, and $R^2$, for both the train and test data.\n",
        "- [ ] What's the best test MAE you can get? Share your score and features used with your cohort on Slack!\n",
        "- [ ] As always, commit your notebook to your fork of the GitHub repo.\n",
        "\n",
        "\n",
        "#### [Feature Engineering](https://en.wikipedia.org/wiki/Feature_engineering)\n",
        "\n",
        "> \"Some machine learning projects succeed and some fail. What makes the difference? Easily the most important factor is the features used.\" — Pedro Domingos, [\"A Few Useful Things to Know about Machine Learning\"](https://homes.cs.washington.edu/~pedrod/papers/cacm12.pdf)\n",
        "\n",
        "> \"Coming up with features is difficult, time-consuming, requires expert knowledge. 'Applied machine learning' is basically feature engineering.\" — Andrew Ng, [Machine Learning and AI via Brain simulations](https://forum.stanford.edu/events/2011/2011slides/plenary/2011plenaryNg.pdf) \n",
        "\n",
        "> Feature engineering is the process of using domain knowledge of the data to create features that make machine learning algorithms work. \n",
        "\n",
        "#### Feature Ideas\n",
        "- Does the apartment have a description?\n",
        "- How long is the description?\n",
        "- How many total perks does each apartment have?\n",
        "- Are cats _or_ dogs allowed?\n",
        "- Are cats _and_ dogs allowed?\n",
        "- Total number of rooms (beds + baths)\n",
        "- Ratio of beds to baths\n",
        "- What's the neighborhood, based on address or latitude & longitude?\n",
        "\n",
        "## Stretch Goals\n",
        "- [ ] If you want more math, skim [_An Introduction to Statistical Learning_](http://faculty.marshall.usc.edu/gareth-james/ISL/ISLR%20Seventh%20Printing.pdf),  Chapter 3.1, Simple Linear Regression, & Chapter 3.2, Multiple Linear Regression\n",
        "- [ ] If you want more introduction, watch [Brandon Foltz, Statistics 101: Simple Linear Regression](https://www.youtube.com/watch?v=ZkjP5RJLQF4)\n",
        "(20 minutes, over 1 million views)\n",
        "- [ ] Add your own stretch goal(s) !"
      ]
    },
    {
      "cell_type": "code",
      "metadata": {
        "id": "o9eSnDYhUGD7"
      },
      "source": [
        "%%capture\n",
        "import sys\n",
        "\n",
        "# If you're on Colab:\n",
        "if 'google.colab' in sys.modules:\n",
        "    DATA_PATH = 'https://raw.githubusercontent.com/LambdaSchool/DS-Unit-2-Applied-Modeling/master/data/'\n",
        "    !pip install category_encoders==2.*\n",
        "\n",
        "# If you're working locally:\n",
        "else:\n",
        "    DATA_PATH = '../data/'\n",
        "    \n",
        "# Ignore this Numpy warning when using Plotly Express:\n",
        "# FutureWarning: Method .ptp is deprecated and will be removed in a future version. Use numpy.ptp instead.\n",
        "import warnings\n",
        "warnings.filterwarnings(action='ignore', category=FutureWarning, module='numpy')"
      ],
      "execution_count": 1,
      "outputs": []
    },
    {
      "cell_type": "code",
      "metadata": {
        "id": "cvrw-T3bZOuW"
      },
      "source": [
        "import numpy as np\n",
        "import pandas as pd\n",
        "\n",
        "# Read New York City apartment rental listing data\n",
        "df = pd.read_csv(DATA_PATH+'apartments/renthop-nyc.csv', parse_dates=['created'], index_col=['created'])\n",
        "assert df.shape == (49352, 33)\n",
        "\n",
        "# Remove the most extreme 1% prices,\n",
        "# the most extreme .1% latitudes, &\n",
        "# the most extreme .1% longitudes\n",
        "df = df[(df['price'] >= np.percentile(df['price'], 0.5)) & \n",
        "        (df['price'] <= np.percentile(df['price'], 99.5)) & \n",
        "        (df['latitude'] >= np.percentile(df['latitude'], 0.05)) & \n",
        "        (df['latitude'] < np.percentile(df['latitude'], 99.95)) &\n",
        "        (df['longitude'] >= np.percentile(df['longitude'], 0.05)) & \n",
        "        (df['longitude'] <= np.percentile(df['longitude'], 99.95))]"
      ],
      "execution_count": 2,
      "outputs": []
    },
    {
      "cell_type": "code",
      "metadata": {
        "id": "yVDeOV-Nvz4x"
      },
      "source": [
        "import seaborn as sns"
      ],
      "execution_count": 3,
      "outputs": []
    },
    {
      "cell_type": "code",
      "metadata": {
        "id": "axzI-2iraFxr"
      },
      "source": [
        "# Mask for the test/train timeline split\n",
        "mask = df.index <= pd.to_datetime('May 2016')"
      ],
      "execution_count": 4,
      "outputs": []
    },
    {
      "cell_type": "code",
      "metadata": {
        "id": "xfPFiEQGa4wo"
      },
      "source": [
        "# Splitting the data\n",
        "train_data = df[mask]\n",
        "test_data = df[~mask]"
      ],
      "execution_count": 53,
      "outputs": []
    },
    {
      "cell_type": "code",
      "metadata": {
        "id": "9dO1G7pGUNe5",
        "outputId": "fa895d74-a17d-48ae-9455-9283dfd08883",
        "colab": {
          "base_uri": "https://localhost:8080/",
          "height": 212
        }
      },
      "source": [
        "train_data.groupby(['interest_level']).mean()"
      ],
      "execution_count": 56,
      "outputs": [
        {
          "output_type": "execute_result",
          "data": {
            "text/html": [
              "<div>\n",
              "<style scoped>\n",
              "    .dataframe tbody tr th:only-of-type {\n",
              "        vertical-align: middle;\n",
              "    }\n",
              "\n",
              "    .dataframe tbody tr th {\n",
              "        vertical-align: top;\n",
              "    }\n",
              "\n",
              "    .dataframe thead th {\n",
              "        text-align: right;\n",
              "    }\n",
              "</style>\n",
              "<table border=\"1\" class=\"dataframe\">\n",
              "  <thead>\n",
              "    <tr style=\"text-align: right;\">\n",
              "      <th></th>\n",
              "      <th>bathrooms</th>\n",
              "      <th>bedrooms</th>\n",
              "      <th>latitude</th>\n",
              "      <th>longitude</th>\n",
              "      <th>price</th>\n",
              "      <th>elevator</th>\n",
              "      <th>cats_allowed</th>\n",
              "      <th>hardwood_floors</th>\n",
              "      <th>dogs_allowed</th>\n",
              "      <th>doorman</th>\n",
              "      <th>dishwasher</th>\n",
              "      <th>no_fee</th>\n",
              "      <th>laundry_in_building</th>\n",
              "      <th>fitness_center</th>\n",
              "      <th>pre-war</th>\n",
              "      <th>laundry_in_unit</th>\n",
              "      <th>roof_deck</th>\n",
              "      <th>outdoor_space</th>\n",
              "      <th>dining_room</th>\n",
              "      <th>high_speed_internet</th>\n",
              "      <th>balcony</th>\n",
              "      <th>swimming_pool</th>\n",
              "      <th>new_construction</th>\n",
              "      <th>terrace</th>\n",
              "      <th>exclusive</th>\n",
              "      <th>loft</th>\n",
              "      <th>garden_patio</th>\n",
              "      <th>wheelchair_access</th>\n",
              "      <th>common_outdoor_space</th>\n",
              "    </tr>\n",
              "    <tr>\n",
              "      <th>interest_level</th>\n",
              "      <th></th>\n",
              "      <th></th>\n",
              "      <th></th>\n",
              "      <th></th>\n",
              "      <th></th>\n",
              "      <th></th>\n",
              "      <th></th>\n",
              "      <th></th>\n",
              "      <th></th>\n",
              "      <th></th>\n",
              "      <th></th>\n",
              "      <th></th>\n",
              "      <th></th>\n",
              "      <th></th>\n",
              "      <th></th>\n",
              "      <th></th>\n",
              "      <th></th>\n",
              "      <th></th>\n",
              "      <th></th>\n",
              "      <th></th>\n",
              "      <th></th>\n",
              "      <th></th>\n",
              "      <th></th>\n",
              "      <th></th>\n",
              "      <th></th>\n",
              "      <th></th>\n",
              "      <th></th>\n",
              "      <th></th>\n",
              "      <th></th>\n",
              "    </tr>\n",
              "  </thead>\n",
              "  <tbody>\n",
              "    <tr>\n",
              "      <th>1</th>\n",
              "      <td>1.118464</td>\n",
              "      <td>1.567810</td>\n",
              "      <td>40.746338</td>\n",
              "      <td>-73.969038</td>\n",
              "      <td>2771.627451</td>\n",
              "      <td>0.471405</td>\n",
              "      <td>0.437908</td>\n",
              "      <td>0.532680</td>\n",
              "      <td>0.388889</td>\n",
              "      <td>0.290033</td>\n",
              "      <td>0.406863</td>\n",
              "      <td>0.459150</td>\n",
              "      <td>0.133987</td>\n",
              "      <td>0.193627</td>\n",
              "      <td>0.125000</td>\n",
              "      <td>0.174020</td>\n",
              "      <td>0.108660</td>\n",
              "      <td>0.187908</td>\n",
              "      <td>0.114379</td>\n",
              "      <td>0.089052</td>\n",
              "      <td>0.071895</td>\n",
              "      <td>0.047386</td>\n",
              "      <td>0.039216</td>\n",
              "      <td>0.058007</td>\n",
              "      <td>0.056373</td>\n",
              "      <td>0.054739</td>\n",
              "      <td>0.050654</td>\n",
              "      <td>0.030229</td>\n",
              "      <td>0.046569</td>\n",
              "    </tr>\n",
              "    <tr>\n",
              "      <th>2</th>\n",
              "      <td>1.166533</td>\n",
              "      <td>1.612267</td>\n",
              "      <td>40.746923</td>\n",
              "      <td>-73.972380</td>\n",
              "      <td>3165.609067</td>\n",
              "      <td>0.541333</td>\n",
              "      <td>0.421600</td>\n",
              "      <td>0.608533</td>\n",
              "      <td>0.388533</td>\n",
              "      <td>0.403200</td>\n",
              "      <td>0.502133</td>\n",
              "      <td>0.471467</td>\n",
              "      <td>0.077867</td>\n",
              "      <td>0.259200</td>\n",
              "      <td>0.165600</td>\n",
              "      <td>0.205067</td>\n",
              "      <td>0.160267</td>\n",
              "      <td>0.193867</td>\n",
              "      <td>0.130133</td>\n",
              "      <td>0.115200</td>\n",
              "      <td>0.069600</td>\n",
              "      <td>0.062133</td>\n",
              "      <td>0.064800</td>\n",
              "      <td>0.062133</td>\n",
              "      <td>0.030933</td>\n",
              "      <td>0.055733</td>\n",
              "      <td>0.053067</td>\n",
              "      <td>0.034400</td>\n",
              "      <td>0.035467</td>\n",
              "    </tr>\n",
              "    <tr>\n",
              "      <th>3</th>\n",
              "      <td>1.217913</td>\n",
              "      <td>1.476919</td>\n",
              "      <td>40.750770</td>\n",
              "      <td>-73.974097</td>\n",
              "      <td>3757.180379</td>\n",
              "      <td>0.526906</td>\n",
              "      <td>0.492395</td>\n",
              "      <td>0.440986</td>\n",
              "      <td>0.465445</td>\n",
              "      <td>0.451570</td>\n",
              "      <td>0.391977</td>\n",
              "      <td>0.331139</td>\n",
              "      <td>0.044205</td>\n",
              "      <td>0.275371</td>\n",
              "      <td>0.192564</td>\n",
              "      <td>0.170951</td>\n",
              "      <td>0.125322</td>\n",
              "      <td>0.125322</td>\n",
              "      <td>0.089211</td>\n",
              "      <td>0.078360</td>\n",
              "      <td>0.052121</td>\n",
              "      <td>0.054879</td>\n",
              "      <td>0.049720</td>\n",
              "      <td>0.040292</td>\n",
              "      <td>0.039936</td>\n",
              "      <td>0.044294</td>\n",
              "      <td>0.033888</td>\n",
              "      <td>0.027751</td>\n",
              "      <td>0.027840</td>\n",
              "    </tr>\n",
              "  </tbody>\n",
              "</table>\n",
              "</div>"
            ],
            "text/plain": [
              "                bathrooms  bedrooms  ...  wheelchair_access  common_outdoor_space\n",
              "interest_level                       ...                                         \n",
              "1                1.118464  1.567810  ...           0.030229              0.046569\n",
              "2                1.166533  1.612267  ...           0.034400              0.035467\n",
              "3                1.217913  1.476919  ...           0.027751              0.027840\n",
              "\n",
              "[3 rows x 29 columns]"
            ]
          },
          "metadata": {
            "tags": []
          },
          "execution_count": 56
        }
      ]
    },
    {
      "cell_type": "code",
      "metadata": {
        "id": "4IH9vI-VbcdQ",
        "outputId": "6c527d55-b77c-42e6-b69e-d3bbb06413a5",
        "colab": {
          "base_uri": "https://localhost:8080/",
          "height": 109
        }
      },
      "source": [
        "# Verify if the split was correct\n",
        "\n",
        "print(f'Train data time range: {train_data.index.month_name().value_counts()}')\n",
        "print(f'Test data time range: {test_data.index.month_name().value_counts()}')\n",
        "\n",
        "# Data is splitted correctly"
      ],
      "execution_count": 6,
      "outputs": [
        {
          "output_type": "stream",
          "text": [
            "Train data time range: April    16217\n",
            "Name: created, dtype: int64\n",
            "Test data time range: June    16973\n",
            "May     15627\n",
            "Name: created, dtype: int64\n"
          ],
          "name": "stdout"
        }
      ]
    },
    {
      "cell_type": "code",
      "metadata": {
        "id": "zQKY6evHnJXl"
      },
      "source": [
        "# Engineering a new feature 'perk_score' which is weighted average of features present in building/appartment. Each feature is assigned \n",
        "# a 'weight' according to it's significance in determining the price of a rental. The maximum score with all features present is 10\n",
        "\n",
        "feature_scores = {'exclusive': 14/105, 'new_construction': 5/105, 'doorman': 12/105, 'fitness_center': 11/105,\n",
        "                  'elevator': 10/105, 'roof_deck': 9/105, 'outdoor_space': 6/105, 'laundry_in_unit': 7/105, 'dishwasher': 8/105,\n",
        "                  'swimming_pool': 13/105, 'balcony': 4/105, 'laundry_in_building': 3/105, 'loft': 2/105,\n",
        "                  'hardwood_floors': 1/105}\n",
        "\n",
        "train_data['perk_score'] = (train_data['exclusive'] * feature_scores['exclusive'] + train_data['new_construction'] * feature_scores['new_construction'] \\\n",
        "                            + train_data['swimming_pool'] * feature_scores['swimming_pool'] + train_data['fitness_center'] * feature_scores['fitness_center'] \\\n",
        "                            + train_data['balcony'] * feature_scores['balcony'] + train_data['roof_deck'] * feature_scores['roof_deck'] \\\n",
        "                            + train_data['outdoor_space'] * feature_scores['outdoor_space'] + train_data['laundry_in_unit'] * feature_scores['laundry_in_unit'] \\\n",
        "                            + train_data['dishwasher'] * feature_scores['dishwasher'] + train_data['elevator'] * feature_scores['elevator'] \\\n",
        "                            + train_data['doorman'] * feature_scores['doorman'] + train_data['laundry_in_building'] * feature_scores['laundry_in_building'] \\\n",
        "                            + train_data['loft'] * feature_scores['loft'] + train_data['hardwood_floors'] * feature_scores['hardwood_floors']) * 10\n",
        "\n",
        "test_data['perk_score'] = (test_data['exclusive'] * feature_scores['exclusive'] + test_data['new_construction'] * feature_scores['new_construction'] \\\n",
        "                            + test_data['swimming_pool'] * feature_scores['swimming_pool'] + test_data['fitness_center'] * feature_scores['fitness_center'] \\\n",
        "                            + test_data['balcony'] * feature_scores['balcony'] + test_data['roof_deck'] * feature_scores['roof_deck'] \\\n",
        "                            + test_data['outdoor_space'] * feature_scores['outdoor_space'] + test_data['laundry_in_unit'] * feature_scores['laundry_in_unit'] \\\n",
        "                            + test_data['dishwasher'] * feature_scores['dishwasher'] + test_data['elevator'] * feature_scores['elevator'] \\\n",
        "                            + test_data['doorman'] * feature_scores['doorman'] + test_data['laundry_in_building'] * feature_scores['laundry_in_building'] \\\n",
        "                            + test_data['loft'] * feature_scores['loft'] + test_data['hardwood_floors'] * feature_scores['hardwood_floors']) * 10"
      ],
      "execution_count": null,
      "outputs": []
    },
    {
      "cell_type": "code",
      "metadata": {
        "id": "QCo4bTPXWx_Y",
        "outputId": "d0a3e18f-8ab0-40e4-f8ee-0a9d092b05e0",
        "colab": {
          "base_uri": "https://localhost:8080/",
          "height": 202
        }
      },
      "source": [
        "test_data.columns"
      ],
      "execution_count": 70,
      "outputs": [
        {
          "output_type": "execute_result",
          "data": {
            "text/plain": [
              "Index(['bathrooms', 'bedrooms', 'description', 'display_address', 'latitude',\n",
              "       'longitude', 'price', 'street_address', 'interest_level', 'elevator',\n",
              "       'cats_allowed', 'hardwood_floors', 'dogs_allowed', 'doorman',\n",
              "       'dishwasher', 'no_fee', 'laundry_in_building', 'fitness_center',\n",
              "       'pre-war', 'laundry_in_unit', 'roof_deck', 'outdoor_space',\n",
              "       'dining_room', 'high_speed_internet', 'balcony', 'swimming_pool',\n",
              "       'new_construction', 'terrace', 'exclusive', 'loft', 'garden_patio',\n",
              "       'wheelchair_access', 'common_outdoor_space', 'room_total', 'zone',\n",
              "       'perk_score'],\n",
              "      dtype='object')"
            ]
          },
          "metadata": {
            "tags": []
          },
          "execution_count": 70
        }
      ]
    },
    {
      "cell_type": "code",
      "metadata": {
        "id": "GgEnu8mc5OwO"
      },
      "source": [
        "# Making new feature 'zone' that will denote the zone name for the appartment locations in listings. Zones will be ordered from least to the most\n",
        "# expensive by average listing price. \n",
        "\n",
        "def zone_assign(lat):\n",
        "# Financial District (2) lat =< 40.7107            1\n",
        "# Downtown (5) 40.7107 < lat =< 40.7355            2\n",
        "# Midtown (4) 40.7355 < lat =< 40.7635             3\n",
        "# Upper ES/WS (3) 40.7635 < lat =< 40.7939         4  \n",
        "# Uptown (1) lat > 40.7939                         5\n",
        "\n",
        "  if (lat > 40.7939):\n",
        "    return 1\n",
        "  if (40.7635 < lat <= 40.7939):\n",
        "    return 3\n",
        "  if (40.7355 < lat <= 40.7635):\n",
        "    return 4\n",
        "  if (40.7107 < lat <= 40.7355):\n",
        "    return 5\n",
        "  if (lat <= 40.7107):\n",
        "    return 2\n",
        "  else:\n",
        "    return 0"
      ],
      "execution_count": 58,
      "outputs": []
    },
    {
      "cell_type": "code",
      "metadata": {
        "id": "oe6OU42PsDUx"
      },
      "source": [
        "test_data['zone'] = test_data['latitude'].apply(zone_assign)\n",
        "train_data['zone'] = train_data['latitude'].apply(zone_assign)"
      ],
      "execution_count": null,
      "outputs": []
    },
    {
      "cell_type": "code",
      "metadata": {
        "id": "Mpngg4wU7OGS"
      },
      "source": [
        "# Making new feature 'room_total' that will denote the sum of bathrooms and bedrooms for each listing.\n",
        "\n",
        "test_data['room_total'] = test_data['bathrooms'] + test_data['bedrooms']\n",
        "train_data['room_total'] = train_data['bathrooms'] + train_data['bedrooms']"
      ],
      "execution_count": null,
      "outputs": []
    },
    {
      "cell_type": "code",
      "metadata": {
        "id": "Y9KSgjXWUygB"
      },
      "source": [
        "# Converting interest_level to the numerical value\n",
        "\n",
        "def int_convert(x):\n",
        "  if (x=='high'):\n",
        "    return 1\n",
        "  if (x=='medium'):\n",
        "    return 2\n",
        "  if (x=='low'):\n",
        "    return 3\n",
        "\n",
        "test_data['interest_level'] = test_data['interest_level'].apply(int_convert)\n",
        "train_data['interest_level'] = train_data['interest_level'].apply(int_convert)"
      ],
      "execution_count": null,
      "outputs": []
    },
    {
      "cell_type": "code",
      "metadata": {
        "id": "_zrurhPa8SvK"
      },
      "source": [
        "# Building a model \n",
        "from sklearn.linear_model import LinearRegression\n",
        "from statsmodels.formula.api import ols\n",
        "from sklearn.metrics import mean_absolute_error, mean_squared_error, r2_score"
      ],
      "execution_count": null,
      "outputs": []
    },
    {
      "cell_type": "code",
      "metadata": {
        "id": "M9MF-6GR8jDL"
      },
      "source": [
        "# Create target vectors\n",
        "\n",
        "y_train = train_data['price']\n",
        "y_test = test_data['price']\n",
        "\n",
        "# Create feature matrices\n",
        "\n",
        "X_train = train_data[['zone', 'interest_level', 'perk_score', 'room_total']]\n",
        "X_test = test_data[[ 'zone', 'interest_level', 'perk_score', 'room_total']]"
      ],
      "execution_count": 67,
      "outputs": []
    },
    {
      "cell_type": "code",
      "metadata": {
        "id": "m7L1eP_6IIov",
        "outputId": "14d38e30-cf3b-42f8-eaaf-4bc1c6a7ac82",
        "colab": {
          "base_uri": "https://localhost:8080/",
          "height": 383
        }
      },
      "source": [
        "sns.lmplot(x='zone', y='price', data = test_data);"
      ],
      "execution_count": 13,
      "outputs": [
        {
          "output_type": "display_data",
          "data": {
            "image/png": "[encoded data removed]",
            "text/plain": [
              "<Figure size 360x360 with 1 Axes>"
            ]
          },
          "metadata": {
            "tags": [],
            "needs_background": "light"
          }
        }
      ]
    },
    {
      "cell_type": "code",
      "metadata": {
        "id": "aHk-nYZtEXaA"
      },
      "source": [
        "# Instanciate the model\n",
        "\n",
        "model = LinearRegression()\n",
        "\n",
        "# Fit the model into data\n",
        "\n",
        "model.fit(X_train, y_train)\n",
        "\n",
        "# Making prediction on test data\n",
        "test_data_predictions = model.predict(X_test)"
      ],
      "execution_count": 68,
      "outputs": []
    },
    {
      "cell_type": "markdown",
      "metadata": {
        "id": "NRk5mOT5FVOn"
      },
      "source": [
        "#Baseline $MAE$, $RMSE$, and $R^2$ for the test data."
      ]
    },
    {
      "cell_type": "code",
      "metadata": {
        "id": "hPbPxlmEFUqO",
        "outputId": "cea40813-671c-4777-bc4b-0a698833aef6",
        "colab": {
          "base_uri": "https://localhost:8080/",
          "height": 72
        }
      },
      "source": [
        "baseline = test_data['price'].mean()\n",
        "print(f'Baseline MAE: {mean_absolute_error(y_test, [baseline] * len(y_test))}')\n",
        "print(f'Baseline RMSE: {mean_squared_error(y_test,[baseline] * len(y_test), squared=False)}')\n",
        "print(f'Baseline r2: {r2_score(y_test, [baseline] * len(y_test))}')"
      ],
      "execution_count": 39,
      "outputs": [
        {
          "output_type": "stream",
          "text": [
            "Baseline MAE: 1213.8430739884827\n",
            "Baseline RMSE: 1779.4147159119623\n",
            "Baseline r2: 0.0\n"
          ],
          "name": "stdout"
        }
      ]
    },
    {
      "cell_type": "markdown",
      "metadata": {
        "id": "U594sWuxHnJh"
      },
      "source": [
        "#Model $MAE$, $RMSE$, and $R^2$ for the test data."
      ]
    },
    {
      "cell_type": "code",
      "metadata": {
        "id": "wOPiVAIZHqOH",
        "outputId": "cbab1a0d-6923-4f8c-c61f-68bb2e5e6389",
        "colab": {
          "base_uri": "https://localhost:8080/",
          "height": 72
        }
      },
      "source": [
        "print(f'Baseline MAE: {mean_absolute_error(y_test, test_data_predictions)}')\n",
        "print(f'Baseline RMSE: {mean_squared_error(y_test,test_data_predictions, squared=False)}')\n",
        "print(f'Baseline r2: {r2_score(y_test, test_data_predictions)}')"
      ],
      "execution_count": 69,
      "outputs": [
        {
          "output_type": "stream",
          "text": [
            "Baseline MAE: 740.7875599432058\n",
            "Baseline RMSE: 1160.6249268967615\n",
            "Baseline r2: 0.5745687070219685\n"
          ],
          "name": "stdout"
        }
      ]
    }
  ]
}