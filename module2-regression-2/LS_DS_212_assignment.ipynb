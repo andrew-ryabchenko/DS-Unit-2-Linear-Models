{
  "nbformat": 4,
  "nbformat_minor": 0,
  "metadata": {
    "kernelspec": {
      "display_name": "Python 3",
      "language": "python",
      "name": "python3"
    },
    "language_info": {
      "codemirror_mode": {
        "name": "ipython",
        "version": 3
      },
      "file_extension": ".py",
      "mimetype": "text/x-python",
      "name": "python",
      "nbconvert_exporter": "python",
      "pygments_lexer": "ipython3",
      "version": "3.7.3"
    },
    "colab": {
      "name": "LS_DS_212_assignment.ipynb",
      "provenance": []
    }
  },
  "cells": [
    {
      "cell_type": "markdown",
      "metadata": {
        "id": "4ZYN6iWYY3cb"
      },
      "source": [
        "Lambda School Data Science\n",
        "\n",
        "*Unit 2, Sprint 1, Module 2*\n",
        "\n",
        "---"
      ]
    },
    {
      "cell_type": "markdown",
      "metadata": {
        "id": "7IXUfiQ2UKj6"
      },
      "source": [
        "# Regression 2\n",
        "\n",
        "## Assignment\n",
        "\n",
        "You'll continue to **predict how much it costs to rent an apartment in NYC,** using the dataset from renthop.com.\n",
        "\n",
        "- [ ] Do train/test split. Use data from April & May 2016 to train. Use data from June 2016 to test.\n",
        "- [ ] Engineer at least two new features. (See below for explanation & ideas.)\n",
        "- [ ] Fit a linear regression model with at least two features.\n",
        "- [ ] Get the model's coefficients and intercept.\n",
        "- [ ] Get regression metrics RMSE, MAE, and $R^2$, for both the train and test data.\n",
        "- [ ] What's the best test MAE you can get? Share your score and features used with your cohort on Slack!\n",
        "- [ ] As always, commit your notebook to your fork of the GitHub repo.\n",
        "\n",
        "\n",
        "#### [Feature Engineering](https://en.wikipedia.org/wiki/Feature_engineering)\n",
        "\n",
        "> \"Some machine learning projects succeed and some fail. What makes the difference? Easily the most important factor is the features used.\" — Pedro Domingos, [\"A Few Useful Things to Know about Machine Learning\"](https://homes.cs.washington.edu/~pedrod/papers/cacm12.pdf)\n",
        "\n",
        "> \"Coming up with features is difficult, time-consuming, requires expert knowledge. 'Applied machine learning' is basically feature engineering.\" — Andrew Ng, [Machine Learning and AI via Brain simulations](https://forum.stanford.edu/events/2011/2011slides/plenary/2011plenaryNg.pdf) \n",
        "\n",
        "> Feature engineering is the process of using domain knowledge of the data to create features that make machine learning algorithms work. \n",
        "\n",
        "#### Feature Ideas\n",
        "- Does the apartment have a description?\n",
        "- How long is the description?\n",
        "- How many total perks does each apartment have?\n",
        "- Are cats _or_ dogs allowed?\n",
        "- Are cats _and_ dogs allowed?\n",
        "- Total number of rooms (beds + baths)\n",
        "- Ratio of beds to baths\n",
        "- What's the neighborhood, based on address or latitude & longitude?\n",
        "\n",
        "## Stretch Goals\n",
        "- [ ] If you want more math, skim [_An Introduction to Statistical Learning_](http://faculty.marshall.usc.edu/gareth-james/ISL/ISLR%20Seventh%20Printing.pdf),  Chapter 3.1, Simple Linear Regression, & Chapter 3.2, Multiple Linear Regression\n",
        "- [ ] If you want more introduction, watch [Brandon Foltz, Statistics 101: Simple Linear Regression](https://www.youtube.com/watch?v=ZkjP5RJLQF4)\n",
        "(20 minutes, over 1 million views)\n",
        "- [ ] Add your own stretch goal(s) !"
      ]
    },
    {
      "cell_type": "code",
      "metadata": {
        "id": "o9eSnDYhUGD7"
      },
      "source": [
        "%%capture\n",
        "import sys\n",
        "\n",
        "# If you're on Colab:\n",
        "if 'google.colab' in sys.modules:\n",
        "    DATA_PATH = 'https://raw.githubusercontent.com/LambdaSchool/DS-Unit-2-Applied-Modeling/master/data/'\n",
        "    !pip install category_encoders==2.*\n",
        "\n",
        "# If you're working locally:\n",
        "else:\n",
        "    DATA_PATH = '../data/'\n",
        "    \n",
        "# Ignore this Numpy warning when using Plotly Express:\n",
        "# FutureWarning: Method .ptp is deprecated and will be removed in a future version. Use numpy.ptp instead.\n",
        "import warnings\n",
        "warnings.filterwarnings(action='ignore', category=FutureWarning, module='numpy')"
      ],
      "execution_count": 1,
      "outputs": []
    },
    {
      "cell_type": "code",
      "metadata": {
        "id": "cvrw-T3bZOuW"
      },
      "source": [
        "import numpy as np\n",
        "import pandas as pd\n",
        "\n",
        "# Read New York City apartment rental listing data\n",
        "df = pd.read_csv(DATA_PATH+'apartments/renthop-nyc.csv', parse_dates=['created'], index_col=['created'])\n",
        "assert df.shape == (49352, 33)\n",
        "\n",
        "# Remove the most extreme 1% prices,\n",
        "# the most extreme .1% latitudes, &\n",
        "# the most extreme .1% longitudes\n",
        "df = df[(df['price'] >= np.percentile(df['price'], 0.5)) & \n",
        "        (df['price'] <= np.percentile(df['price'], 99.5)) & \n",
        "        (df['latitude'] >= np.percentile(df['latitude'], 0.05)) & \n",
        "        (df['latitude'] < np.percentile(df['latitude'], 99.95)) &\n",
        "        (df['longitude'] >= np.percentile(df['longitude'], 0.05)) & \n",
        "        (df['longitude'] <= np.percentile(df['longitude'], 99.95))]"
      ],
      "execution_count": 11,
      "outputs": []
    },
    {
      "cell_type": "code",
      "metadata": {
        "id": "yVDeOV-Nvz4x"
      },
      "source": [
        "import seaborn as sns"
      ],
      "execution_count": 56,
      "outputs": []
    },
    {
      "cell_type": "code",
      "metadata": {
        "id": "axzI-2iraFxr"
      },
      "source": [
        "# Mask for the test/train timeline split\n",
        "mask = df.index <= pd.to_datetime('May 2016')"
      ],
      "execution_count": 14,
      "outputs": []
    },
    {
      "cell_type": "code",
      "metadata": {
        "id": "xfPFiEQGa4wo"
      },
      "source": [
        "# Splitting the data\n",
        "train_data = df[mask]\n",
        "test_data = df[~mask]"
      ],
      "execution_count": 18,
      "outputs": []
    },
    {
      "cell_type": "code",
      "metadata": {
        "id": "4IH9vI-VbcdQ",
        "outputId": "3a63092f-f323-4787-d1f0-23fdeaa922d5",
        "colab": {
          "base_uri": "https://localhost:8080/",
          "height": 109
        }
      },
      "source": [
        "# Verify if the split was correct\n",
        "\n",
        "print(f'Train data time range: {train_data.index.month_name().value_counts()}')\n",
        "print(f'Test data time range: {test_data.index.month_name().value_counts()}')\n",
        "\n",
        "# Data is splitted correctly"
      ],
      "execution_count": 33,
      "outputs": [
        {
          "output_type": "stream",
          "text": [
            "Train data time range: April    16217\n",
            "Name: created, dtype: int64\n",
            "Test data time range: June    16973\n",
            "May     15627\n",
            "Name: created, dtype: int64\n"
          ],
          "name": "stdout"
        }
      ]
    },
    {
      "cell_type": "code",
      "metadata": {
        "id": "zQKY6evHnJXl"
      },
      "source": [
        "# Engineering a new feature 'perk_score' which is weighted average of features present in building/appartment. Each feature is assigned \n",
        "# a 'weight' according to it's significance in determining the price of a rental. The maximum score with all features present is 10\n",
        "\n",
        "feature_scores = {'exclusive': 14/105, 'new_construction': 13/105, 'doorman': 12/105, 'fitness_center': 11/105,\n",
        "                  'elevator': 10/105, 'roof_deck': 9/105, 'outdoor_space': 6/105, 'laundry_in_unit': 7/105, 'dishwasher': 8/105,\n",
        "                  'swimming_pool': 5/105, 'balcony': 4/105, 'laundry_in_building': 3/105, 'loft': 2/105,\n",
        "                  'hardwood_floors': 1/105}\n",
        "\n",
        "train_data['perk_score'] = (train_data['exclusive'] * feature_scores['exclusive'] + train_data['new_construction'] * feature_scores['new_construction'] \\\n",
        "                            + train_data['swimming_pool'] * feature_scores['swimming_pool'] + train_data['fitness_center'] * feature_scores['fitness_center'] \\\n",
        "                            + train_data['balcony'] * feature_scores['balcony'] + train_data['roof_deck'] * feature_scores['roof_deck'] \\\n",
        "                            + train_data['outdoor_space'] * feature_scores['outdoor_space'] + train_data['laundry_in_unit'] * feature_scores['laundry_in_unit'] \\\n",
        "                            + train_data['dishwasher'] * feature_scores['dishwasher'] + train_data['elevator'] * feature_scores['elevator'] \\\n",
        "                            + train_data['doorman'] * feature_scores['doorman'] + train_data['laundry_in_building'] * feature_scores['laundry_in_building'] \\\n",
        "                            + train_data['loft'] * feature_scores['loft'] + train_data['hardwood_floors'] * feature_scores['hardwood_floors']) * 10\n",
        "\n",
        "test_data['perk_score'] = (test_data['exclusive'] * feature_scores['exclusive'] + test_data['new_construction'] * feature_scores['new_construction'] \\\n",
        "                            + test_data['swimming_pool'] * feature_scores['swimming_pool'] + test_data['fitness_center'] * feature_scores['fitness_center'] \\\n",
        "                            + test_data['balcony'] * feature_scores['balcony'] + test_data['roof_deck'] * feature_scores['roof_deck'] \\\n",
        "                            + test_data['outdoor_space'] * feature_scores['outdoor_space'] + test_data['laundry_in_unit'] * feature_scores['laundry_in_unit'] \\\n",
        "                            + test_data['dishwasher'] * feature_scores['dishwasher'] + test_data['elevator'] * feature_scores['elevator'] \\\n",
        "                            + test_data['doorman'] * feature_scores['doorman'] + test_data['laundry_in_building'] * feature_scores['laundry_in_building'] \\\n",
        "                            + test_data['loft'] * feature_scores['loft'] + test_data['hardwood_floors'] * feature_scores['hardwood_floors']) * 10"
      ],
      "execution_count": null,
      "outputs": []
    },
    {
      "cell_type": "code",
      "metadata": {
        "id": "GgEnu8mc5OwO"
      },
      "source": [
        "# Making new feature 'zone' that will denote the zone name for the appartment locations in listings. Zones will be ordered from least to the most\n",
        "# expensive by average listing price. \n",
        "\n",
        "def zone_assign(lat):\n",
        "# Financial District (2) lat =< 40.7107            1\n",
        "# Downtown (5) 40.7107 < lat =< 40.7355            2\n",
        "# Midtown (4) 40.7355 < lat =< 40.7635             3\n",
        "# Upper ES/WS (3) 40.7635 < lat =< 40.7939         4  \n",
        "# Uptown (1) lat > 40.7939                         5\n",
        "\n",
        "  if (lat > 40.7939):\n",
        "    return 1\n",
        "  if (40.7635 < lat <= 40.7939):\n",
        "    return 3\n",
        "  if (40.7355 < lat <= 40.7635):\n",
        "    return 4\n",
        "  if (40.7107 < lat <= 40.7355):\n",
        "    return 5\n",
        "  if (lat <= 40.7107):\n",
        "    return 2\n",
        "  else:\n",
        "    return 0"
      ],
      "execution_count": 125,
      "outputs": []
    },
    {
      "cell_type": "code",
      "metadata": {
        "id": "oe6OU42PsDUx"
      },
      "source": [
        "test_data['zone'] = test_data['latitude'].apply(zone_assign)\n",
        "train_data['zone'] = train_data['latitude'].apply(zone_assign)"
      ],
      "execution_count": null,
      "outputs": []
    },
    {
      "cell_type": "code",
      "metadata": {
        "id": "Mpngg4wU7OGS"
      },
      "source": [
        "# Making new feature 'room_total' that will denote the sum of bathrooms and bedrooms for each listing.\n",
        "\n",
        "test_data['room_total'] = test_data['bathrooms'] + test_data['bedrooms']\n",
        "train_data['room_total'] = train_data['bathrooms'] + train_data['bedrooms']"
      ],
      "execution_count": null,
      "outputs": []
    },
    {
      "cell_type": "code",
      "metadata": {
        "id": "_zrurhPa8SvK"
      },
      "source": [
        "# Building a model \n",
        "from sklearn.linear_model import LinearRegression\n",
        "from statsmodels.formula.api import ols\n",
        "from sklearn.metrics import mean_absolute_error, mean_squared_error, r2_score"
      ],
      "execution_count": 127,
      "outputs": []
    },
    {
      "cell_type": "code",
      "metadata": {
        "id": "M9MF-6GR8jDL"
      },
      "source": [
        "# Create target vectors\n",
        "\n",
        "y_train = train_data['price']\n",
        "y_test = test_data['price']\n",
        "\n",
        "# Create feature matrices\n",
        "\n",
        "X_train = train_data[['zone', 'perk_score', 'room_total']]\n",
        "X_test = test_data[['zone', 'perk_score', 'room_total']]"
      ],
      "execution_count": 129,
      "outputs": []
    },
    {
      "cell_type": "code",
      "metadata": {
        "id": "m7L1eP_6IIov",
        "outputId": "cafb93a1-a3b2-4838-9908-e45fd3bede4c",
        "colab": {
          "base_uri": "https://localhost:8080/",
          "height": 383
        }
      },
      "source": [
        "sns.lmplot(x='zone', y='price', data = test_data);"
      ],
      "execution_count": 134,
      "outputs": [
        {
          "output_type": "display_data",
          "data": {
            "image/png": "[encoded data removed]",
            "text/plain": [
              "<Figure size 360x360 with 1 Axes>"
            ]
          },
          "metadata": {
            "tags": [],
            "needs_background": "light"
          }
        }
      ]
    },
    {
      "cell_type": "code",
      "metadata": {
        "id": "aHk-nYZtEXaA"
      },
      "source": [
        "# Instanciate the model\n",
        "\n",
        "model = LinearRegression()\n",
        "\n",
        "# Fit the model into data\n",
        "\n",
        "model.fit(X_train, y_train)\n",
        "\n",
        "# Making prediction on test data\n",
        "test_data_predictions = model.predict(X_test)"
      ],
      "execution_count": 131,
      "outputs": []
    },
    {
      "cell_type": "markdown",
      "metadata": {
        "id": "NRk5mOT5FVOn"
      },
      "source": [
        "#Baseline $MAE$, $RMSE$, and $R^2$ for the test data."
      ]
    },
    {
      "cell_type": "code",
      "metadata": {
        "id": "hPbPxlmEFUqO",
        "outputId": "f64a5dfe-c39c-4eb8-a851-113c3f6bc215",
        "colab": {
          "base_uri": "https://localhost:8080/",
          "height": 72
        }
      },
      "source": [
        "baseline = test_data['price'].mean()\n",
        "print(f'Baseline MAE: {mean_absolute_error(y_test, [baseline] * len(y_test))}')\n",
        "print(f'Baseline RMSE: {mean_squared_error(y_test,[baseline] * len(y_test), squared=False)}')\n",
        "print(f'Baseline r2: {r2_score(y_test, [baseline] * len(y_test))}')"
      ],
      "execution_count": 132,
      "outputs": [
        {
          "output_type": "stream",
          "text": [
            "Baseline MAE: 1213.8430739884827\n",
            "Baseline RMSE: 1779.4147159119623\n",
            "Baseline r2: 0.0\n"
          ],
          "name": "stdout"
        }
      ]
    },
    {
      "cell_type": "markdown",
      "metadata": {
        "id": "U594sWuxHnJh"
      },
      "source": [
        "#Model $MAE$, $RMSE$, and $R^2$ for the test data."
      ]
    },
    {
      "cell_type": "code",
      "metadata": {
        "id": "wOPiVAIZHqOH",
        "outputId": "4432ec83-55a1-4637-d0d1-1fb47a891964",
        "colab": {
          "base_uri": "https://localhost:8080/",
          "height": 72
        }
      },
      "source": [
        "print(f'Baseline MAE: {mean_absolute_error(y_test, test_data_predictions)}')\n",
        "print(f'Baseline RMSE: {mean_squared_error(y_test,test_data_predictions, squared=False)}')\n",
        "print(f'Baseline r2: {r2_score(y_test, test_data_predictions)}')"
      ],
      "execution_count": 133,
      "outputs": [
        {
          "output_type": "stream",
          "text": [
            "Baseline MAE: 785.5575016803546\n",
            "Baseline RMSE: 1220.2470416265182\n",
            "Baseline r2: 0.5297366091256294\n"
          ],
          "name": "stdout"
        }
      ]
    }
  ]
}