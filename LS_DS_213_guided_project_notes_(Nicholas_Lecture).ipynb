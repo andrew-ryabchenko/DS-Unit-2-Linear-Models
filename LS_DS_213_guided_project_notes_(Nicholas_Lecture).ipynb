{
  "nbformat": 4,
  "nbformat_minor": 0,
  "metadata": {
    "colab": {
      "name": "LS_DS_213-guided-project-notes (Nicholas Lecture).ipynb",
      "provenance": [],
      "include_colab_link": true
    },
    "kernelspec": {
      "name": "python3",
      "display_name": "Python 3"
    }
  },
  "cells": [
    {
      "cell_type": "markdown",
      "metadata": {
        "id": "view-in-github",
        "colab_type": "text"
      },
      "source": [
        "<a href=\"https://colab.research.google.com/github/andrew-ryabchenko/DS-Unit-2-Linear-Models/blob/master/LS_DS_213_guided_project_notes_(Nicholas_Lecture).ipynb\" target=\"_parent\"><img src=\"https://colab.research.google.com/assets/colab-badge.svg\" alt=\"Open In Colab\"/></a>"
      ]
    },
    {
      "cell_type": "markdown",
      "metadata": {
        "id": "c9XvBGFMguJ1"
      },
      "source": [
        "# NYC Rent\n",
        "\n",
        "**GOAL:** Improve our model for predicting NYC rent prices.\n",
        "\n",
        "**Objectives**\n",
        "\n",
        "- Do one-hot encoding of categorical features\n",
        "- Do univariate feature selection\n",
        "- Use scikit-learn to fit Ridge Regression models"
      ]
    },
    {
      "cell_type": "code",
      "metadata": {
        "id": "wz7tyC22gLEA"
      },
      "source": [
        "%%capture\n",
        "import sys\n",
        "\n",
        "# If you're on Colab:\n",
        "if 'google.colab' in sys.modules:\n",
        "    DATA_PATH = 'https://raw.githubusercontent.com/LambdaSchool/DS-Unit-2-Applied-Modeling/master/data/'\n",
        "    !pip install category_encoders==2.*\n",
        "\n",
        "# If you're working locally:\n",
        "else:\n",
        "    DATA_PATH = '../data/'\n",
        "    !pip install category_encoders==2.*"
      ],
      "execution_count": null,
      "outputs": []
    },
    {
      "cell_type": "markdown",
      "metadata": {
        "id": "0kaV7oNahJLj"
      },
      "source": [
        "# I. Wrangle Data\n",
        "\n",
        "## Import"
      ]
    },
    {
      "cell_type": "code",
      "metadata": {
        "id": "S9WiFlMz_n7a"
      },
      "source": [
        "import pandas as pd\n",
        "import numpy as np\n",
        "\n",
        "df = pd.read_csv(DATA_PATH+'apartments/renthop-nyc.csv', parse_dates = ['created'], index_col = 'created')"
      ],
      "execution_count": null,
      "outputs": []
    },
    {
      "cell_type": "markdown",
      "metadata": {
        "id": "tbf1vIu_llT5"
      },
      "source": [
        "## EDA"
      ]
    },
    {
      "cell_type": "code",
      "metadata": {
        "id": "aX3BdvsEA4fJ"
      },
      "source": [
        "def wrangle(df):\n",
        "  # Make a copy of df\n",
        "  df = df.copy()\n",
        "\n",
        "  # Remove outliers\n",
        "  df = df[(df['price'] >= np.percentile(df['price'], 0.5)) & \n",
        "        (df['price'] <= np.percentile(df['price'], 99.5)) & \n",
        "        (df['latitude'] >= np.percentile(df['latitude'], 0.05)) & \n",
        "        (df['latitude'] < np.percentile(df['latitude'], 99.95)) &\n",
        "        (df['longitude'] >= np.percentile(df['longitude'], 0.05)) & \n",
        "        (df['longitude'] <= np.percentile(df['longitude'], 99.95))]\n",
        "  return df"
      ],
      "execution_count": null,
      "outputs": []
    },
    {
      "cell_type": "code",
      "metadata": {
        "id": "Zn1CNwQQA_jI"
      },
      "source": [
        "df = wrangle(df)"
      ],
      "execution_count": null,
      "outputs": []
    },
    {
      "cell_type": "code",
      "metadata": {
        "id": "LfkQXMLABDWo",
        "outputId": "e5603e62-e5e2-4ecd-9c85-149a8bdbbd23",
        "colab": {
          "base_uri": "https://localhost:8080/",
          "height": 285
        }
      },
      "source": [
        "df['price'].hist()"
      ],
      "execution_count": null,
      "outputs": [
        {
          "output_type": "execute_result",
          "data": {
            "text/plain": [
              "<matplotlib.axes._subplots.AxesSubplot at 0x7f016fa4f828>"
            ]
          },
          "metadata": {
            "tags": []
          },
          "execution_count": 12
        },
        {
          "output_type": "display_data",
          "data": {
            "image/png": "[encoded data removed]",
            "text/plain": [
              "<Figure size 432x288 with 1 Axes>"
            ]
          },
          "metadata": {
            "tags": [],
            "needs_background": "light"
          }
        }
      ]
    },
    {
      "cell_type": "code",
      "metadata": {
        "id": "pHVWBC6JBHji",
        "outputId": "b69eacb2-a2c8-4fb9-8b16-899f5e788c0d",
        "colab": {
          "base_uri": "https://localhost:8080/",
          "height": 756
        }
      },
      "source": [
        "df.info()"
      ],
      "execution_count": null,
      "outputs": [
        {
          "output_type": "stream",
          "text": [
            "<class 'pandas.core.frame.DataFrame'>\n",
            "DatetimeIndex: 48817 entries, 2016-06-24 07:54:24 to 2016-04-12 02:48:07\n",
            "Data columns (total 33 columns):\n",
            " #   Column                Non-Null Count  Dtype  \n",
            "---  ------                --------------  -----  \n",
            " 0   bathrooms             48817 non-null  float64\n",
            " 1   bedrooms              48817 non-null  int64  \n",
            " 2   description           47392 non-null  object \n",
            " 3   display_address       48684 non-null  object \n",
            " 4   latitude              48817 non-null  float64\n",
            " 5   longitude             48817 non-null  float64\n",
            " 6   price                 48817 non-null  int64  \n",
            " 7   street_address        48807 non-null  object \n",
            " 8   interest_level        48817 non-null  object \n",
            " 9   elevator              48817 non-null  int64  \n",
            " 10  cats_allowed          48817 non-null  int64  \n",
            " 11  hardwood_floors       48817 non-null  int64  \n",
            " 12  dogs_allowed          48817 non-null  int64  \n",
            " 13  doorman               48817 non-null  int64  \n",
            " 14  dishwasher            48817 non-null  int64  \n",
            " 15  no_fee                48817 non-null  int64  \n",
            " 16  laundry_in_building   48817 non-null  int64  \n",
            " 17  fitness_center        48817 non-null  int64  \n",
            " 18  pre-war               48817 non-null  int64  \n",
            " 19  laundry_in_unit       48817 non-null  int64  \n",
            " 20  roof_deck             48817 non-null  int64  \n",
            " 21  outdoor_space         48817 non-null  int64  \n",
            " 22  dining_room           48817 non-null  int64  \n",
            " 23  high_speed_internet   48817 non-null  int64  \n",
            " 24  balcony               48817 non-null  int64  \n",
            " 25  swimming_pool         48817 non-null  int64  \n",
            " 26  new_construction      48817 non-null  int64  \n",
            " 27  terrace               48817 non-null  int64  \n",
            " 28  exclusive             48817 non-null  int64  \n",
            " 29  loft                  48817 non-null  int64  \n",
            " 30  garden_patio          48817 non-null  int64  \n",
            " 31  wheelchair_access     48817 non-null  int64  \n",
            " 32  common_outdoor_space  48817 non-null  int64  \n",
            "dtypes: float64(3), int64(26), object(4)\n",
            "memory usage: 12.7+ MB\n"
          ],
          "name": "stdout"
        }
      ]
    },
    {
      "cell_type": "markdown",
      "metadata": {
        "id": "x64ZvPztCKPA"
      },
      "source": [
        "## **Problem:** High-cardinality categorical data"
      ]
    },
    {
      "cell_type": "markdown",
      "metadata": {
        "id": "Fr-x5LJo0pRc"
      },
      "source": [
        "# II. Split Data\n",
        "\n",
        "Split **target vector** from **feature matrix**."
      ]
    },
    {
      "cell_type": "code",
      "metadata": {
        "id": "tDpOQyOk0uwh"
      },
      "source": [
        "target = 'price'\n",
        "y = df[target]\n",
        "X = df.drop(columns=target)"
      ],
      "execution_count": null,
      "outputs": []
    },
    {
      "cell_type": "markdown",
      "metadata": {
        "id": "ZMoRDMuT7A7q"
      },
      "source": [
        "Split data into **training** and **test** sets."
      ]
    },
    {
      "cell_type": "code",
      "metadata": {
        "id": "BGwTWe7c64x9"
      },
      "source": [
        "cutoff = '2016-06-01'\n",
        "mask = X.index < cutoff\n",
        "\n",
        "X_train, y_train = X.loc[mask], y.loc[mask]\n",
        "X_test, y_test = X.loc[~mask], y.loc[~mask]"
      ],
      "execution_count": null,
      "outputs": []
    },
    {
      "cell_type": "markdown",
      "metadata": {
        "id": "-x9lFKmupRWk"
      },
      "source": [
        "# III. Establish Baseline"
      ]
    },
    {
      "cell_type": "markdown",
      "metadata": {
        "id": "d1BOKNBc7Jnf"
      },
      "source": [
        "**Note:** This is a **regression** problem because we're predictiong the continuous value `'price'`."
      ]
    },
    {
      "cell_type": "code",
      "metadata": {
        "id": "-XNZHgf-7XQc",
        "outputId": "ed346844-ea27-41ba-c774-29691d6d0da9",
        "colab": {
          "base_uri": "https://localhost:8080/",
          "height": 35
        }
      },
      "source": [
        "from sklearn.metrics import mean_absolute_error\n",
        "\n",
        "y_pred = [y_train.mean()] * len(y_train)\n",
        "print('Baseline MAE:', mean_absolute_error(y_train, y_pred))"
      ],
      "execution_count": null,
      "outputs": [
        {
          "output_type": "stream",
          "text": [
            "Baseline MAE: 1201.8811133682555\n"
          ],
          "name": "stdout"
        }
      ]
    },
    {
      "cell_type": "markdown",
      "metadata": {
        "id": "Xea7aFidqPoV"
      },
      "source": [
        "## IV. Build `LinearRegression` Model\n"
      ]
    },
    {
      "cell_type": "code",
      "metadata": {
        "id": "7niWdA5FMu3t",
        "outputId": "c9248967-e9d8-4ab5-8f1c-01a4e312d574",
        "colab": {
          "base_uri": "https://localhost:8080/",
          "height": 166
        }
      },
      "source": [
        "from category_encoders import OneHotEncoder\n",
        "\n",
        "# Instanciate transformer\n",
        "\n",
        "ohe = OneHotEncoder(use_cat_names=True)\n",
        "# OneHotEncoder?\n",
        "ohe.fit(X_train)\n",
        "ohe.fit(X_test)"
      ],
      "execution_count": null,
      "outputs": [
        {
          "output_type": "stream",
          "text": [
            "/usr/local/lib/python3.6/dist-packages/category_encoders/utils.py:21: FutureWarning: is_categorical is deprecated and will be removed in a future version.  Use is_categorical_dtype instead\n",
            "  elif pd.api.types.is_categorical(cols):\n",
            "/usr/local/lib/python3.6/dist-packages/category_encoders/utils.py:21: FutureWarning: is_categorical is deprecated and will be removed in a future version.  Use is_categorical_dtype instead\n",
            "  elif pd.api.types.is_categorical(cols):\n"
          ],
          "name": "stderr"
        },
        {
          "output_type": "execute_result",
          "data": {
            "text/plain": [
              "OneHotEncoder(cols=['interest_level'], drop_invariant=False,\n",
              "              handle_missing='value', handle_unknown='value', return_df=True,\n",
              "              use_cat_names=True, verbose=0)"
            ]
          },
          "metadata": {
            "tags": []
          },
          "execution_count": 50
        }
      ]
    },
    {
      "cell_type": "code",
      "metadata": {
        "id": "-E1GKX9ONXNN",
        "outputId": "d4e301b9-3f74-4428-f720-edf3155ab039",
        "colab": {
          "base_uri": "https://localhost:8080/",
          "height": 719
        }
      },
      "source": [
        "XT_train = ohe.transform(X_train)\n",
        "XT_test = ohe.transform(X_test)\n",
        "XT_train.info();"
      ],
      "execution_count": null,
      "outputs": [
        {
          "output_type": "stream",
          "text": [
            "<class 'pandas.core.frame.DataFrame'>\n",
            "DatetimeIndex: 31844 entries, 2016-04-17 03:26:41 to 2016-04-12 02:48:07\n",
            "Data columns (total 31 columns):\n",
            " #   Column                 Non-Null Count  Dtype  \n",
            "---  ------                 --------------  -----  \n",
            " 0   bathrooms              31844 non-null  float64\n",
            " 1   bedrooms               31844 non-null  int64  \n",
            " 2   latitude               31844 non-null  float64\n",
            " 3   longitude              31844 non-null  float64\n",
            " 4   interest_level_medium  31844 non-null  int64  \n",
            " 5   interest_level_low     31844 non-null  int64  \n",
            " 6   interest_level_high    31844 non-null  int64  \n",
            " 7   elevator               31844 non-null  int64  \n",
            " 8   cats_allowed           31844 non-null  int64  \n",
            " 9   hardwood_floors        31844 non-null  int64  \n",
            " 10  dogs_allowed           31844 non-null  int64  \n",
            " 11  doorman                31844 non-null  int64  \n",
            " 12  dishwasher             31844 non-null  int64  \n",
            " 13  no_fee                 31844 non-null  int64  \n",
            " 14  laundry_in_building    31844 non-null  int64  \n",
            " 15  fitness_center         31844 non-null  int64  \n",
            " 16  pre-war                31844 non-null  int64  \n",
            " 17  laundry_in_unit        31844 non-null  int64  \n",
            " 18  roof_deck              31844 non-null  int64  \n",
            " 19  outdoor_space          31844 non-null  int64  \n",
            " 20  dining_room            31844 non-null  int64  \n",
            " 21  high_speed_internet    31844 non-null  int64  \n",
            " 22  balcony                31844 non-null  int64  \n",
            " 23  swimming_pool          31844 non-null  int64  \n",
            " 24  new_construction       31844 non-null  int64  \n",
            " 25  terrace                31844 non-null  int64  \n",
            " 26  exclusive              31844 non-null  int64  \n",
            " 27  loft                   31844 non-null  int64  \n",
            " 28  garden_patio           31844 non-null  int64  \n",
            " 29  wheelchair_access      31844 non-null  int64  \n",
            " 30  common_outdoor_space   31844 non-null  int64  \n",
            "dtypes: float64(3), int64(28)\n",
            "memory usage: 7.8 MB\n"
          ],
          "name": "stdout"
        }
      ]
    },
    {
      "cell_type": "code",
      "metadata": {
        "id": "zpgLmIaOF6Ay",
        "outputId": "3894f603-b78b-4851-ea51-3c0190ef9d80",
        "colab": {
          "base_uri": "https://localhost:8080/",
          "height": 35
        }
      },
      "source": [
        "from sklearn.linear_model import LinearRegression\n",
        "\n",
        "\n",
        "model_lr = LinearRegression()\n",
        "\n",
        "model_lr.fit(XT_train,y_train)"
      ],
      "execution_count": null,
      "outputs": [
        {
          "output_type": "execute_result",
          "data": {
            "text/plain": [
              "LinearRegression(copy_X=True, fit_intercept=True, n_jobs=None, normalize=False)"
            ]
          },
          "metadata": {
            "tags": []
          },
          "execution_count": 52
        }
      ]
    },
    {
      "cell_type": "markdown",
      "metadata": {
        "id": "rHhIH6VE0iRH"
      },
      "source": [
        "# V. Check Metrics"
      ]
    },
    {
      "cell_type": "markdown",
      "metadata": {
        "id": "kfaSpDDj6cU2"
      },
      "source": [
        "# Back to IV. Build `Ridge` Regression Model"
      ]
    },
    {
      "cell_type": "code",
      "metadata": {
        "id": "-w1432tcPHzL"
      },
      "source": [
        "from sklearn.feature_selection import SelectKBest\n",
        "\n",
        "skb = SelectKBest(k=7,)\n",
        "\n",
        "skb.fit(XT_train, y_train)\n",
        "skb.fit(XT_test, y_test)\n",
        "\n",
        "XTT_train = skb.transform(XT_train)\n",
        "XTT_test = skb.transform(XT_train)"
      ],
      "execution_count": null,
      "outputs": []
    },
    {
      "cell_type": "code",
      "metadata": {
        "id": "CdOHdDnDRvRU",
        "outputId": "409ed7e3-589d-4edf-e927-3f405202702c",
        "colab": {
          "base_uri": "https://localhost:8080/",
          "height": 424
        }
      },
      "source": [
        "pd.DataFrame(XTT_test)"
      ],
      "execution_count": null,
      "outputs": [
        {
          "output_type": "execute_result",
          "data": {
            "text/html": [
              "<div>\n",
              "<style scoped>\n",
              "    .dataframe tbody tr th:only-of-type {\n",
              "        vertical-align: middle;\n",
              "    }\n",
              "\n",
              "    .dataframe tbody tr th {\n",
              "        vertical-align: top;\n",
              "    }\n",
              "\n",
              "    .dataframe thead th {\n",
              "        text-align: right;\n",
              "    }\n",
              "</style>\n",
              "<table border=\"1\" class=\"dataframe\">\n",
              "  <thead>\n",
              "    <tr style=\"text-align: right;\">\n",
              "      <th></th>\n",
              "      <th>0</th>\n",
              "      <th>1</th>\n",
              "      <th>2</th>\n",
              "      <th>3</th>\n",
              "      <th>4</th>\n",
              "      <th>5</th>\n",
              "      <th>6</th>\n",
              "    </tr>\n",
              "  </thead>\n",
              "  <tbody>\n",
              "    <tr>\n",
              "      <th>0</th>\n",
              "      <td>1.0</td>\n",
              "      <td>1.0</td>\n",
              "      <td>-74.0018</td>\n",
              "      <td>0.0</td>\n",
              "      <td>0.0</td>\n",
              "      <td>0.0</td>\n",
              "      <td>0.0</td>\n",
              "    </tr>\n",
              "    <tr>\n",
              "      <th>1</th>\n",
              "      <td>1.0</td>\n",
              "      <td>1.0</td>\n",
              "      <td>-73.9677</td>\n",
              "      <td>0.0</td>\n",
              "      <td>0.0</td>\n",
              "      <td>0.0</td>\n",
              "      <td>0.0</td>\n",
              "    </tr>\n",
              "    <tr>\n",
              "      <th>2</th>\n",
              "      <td>1.0</td>\n",
              "      <td>4.0</td>\n",
              "      <td>-73.9493</td>\n",
              "      <td>0.0</td>\n",
              "      <td>0.0</td>\n",
              "      <td>0.0</td>\n",
              "      <td>0.0</td>\n",
              "    </tr>\n",
              "    <tr>\n",
              "      <th>3</th>\n",
              "      <td>2.0</td>\n",
              "      <td>4.0</td>\n",
              "      <td>-74.0028</td>\n",
              "      <td>0.0</td>\n",
              "      <td>0.0</td>\n",
              "      <td>0.0</td>\n",
              "      <td>0.0</td>\n",
              "    </tr>\n",
              "    <tr>\n",
              "      <th>4</th>\n",
              "      <td>1.0</td>\n",
              "      <td>2.0</td>\n",
              "      <td>-73.9660</td>\n",
              "      <td>0.0</td>\n",
              "      <td>0.0</td>\n",
              "      <td>0.0</td>\n",
              "      <td>0.0</td>\n",
              "    </tr>\n",
              "    <tr>\n",
              "      <th>...</th>\n",
              "      <td>...</td>\n",
              "      <td>...</td>\n",
              "      <td>...</td>\n",
              "      <td>...</td>\n",
              "      <td>...</td>\n",
              "      <td>...</td>\n",
              "      <td>...</td>\n",
              "    </tr>\n",
              "    <tr>\n",
              "      <th>31839</th>\n",
              "      <td>1.0</td>\n",
              "      <td>1.0</td>\n",
              "      <td>-73.9869</td>\n",
              "      <td>1.0</td>\n",
              "      <td>0.0</td>\n",
              "      <td>0.0</td>\n",
              "      <td>0.0</td>\n",
              "    </tr>\n",
              "    <tr>\n",
              "      <th>31840</th>\n",
              "      <td>1.0</td>\n",
              "      <td>1.0</td>\n",
              "      <td>-74.0163</td>\n",
              "      <td>1.0</td>\n",
              "      <td>1.0</td>\n",
              "      <td>0.0</td>\n",
              "      <td>0.0</td>\n",
              "    </tr>\n",
              "    <tr>\n",
              "      <th>31841</th>\n",
              "      <td>1.0</td>\n",
              "      <td>1.0</td>\n",
              "      <td>-73.9900</td>\n",
              "      <td>1.0</td>\n",
              "      <td>0.0</td>\n",
              "      <td>0.0</td>\n",
              "      <td>0.0</td>\n",
              "    </tr>\n",
              "    <tr>\n",
              "      <th>31842</th>\n",
              "      <td>1.0</td>\n",
              "      <td>0.0</td>\n",
              "      <td>-74.0101</td>\n",
              "      <td>1.0</td>\n",
              "      <td>0.0</td>\n",
              "      <td>0.0</td>\n",
              "      <td>0.0</td>\n",
              "    </tr>\n",
              "    <tr>\n",
              "      <th>31843</th>\n",
              "      <td>1.0</td>\n",
              "      <td>2.0</td>\n",
              "      <td>-73.9172</td>\n",
              "      <td>0.0</td>\n",
              "      <td>0.0</td>\n",
              "      <td>0.0</td>\n",
              "      <td>0.0</td>\n",
              "    </tr>\n",
              "  </tbody>\n",
              "</table>\n",
              "<p>31844 rows × 7 columns</p>\n",
              "</div>"
            ],
            "text/plain": [
              "         0    1        2    3    4    5    6\n",
              "0      1.0  1.0 -74.0018  0.0  0.0  0.0  0.0\n",
              "1      1.0  1.0 -73.9677  0.0  0.0  0.0  0.0\n",
              "2      1.0  4.0 -73.9493  0.0  0.0  0.0  0.0\n",
              "3      2.0  4.0 -74.0028  0.0  0.0  0.0  0.0\n",
              "4      1.0  2.0 -73.9660  0.0  0.0  0.0  0.0\n",
              "...    ...  ...      ...  ...  ...  ...  ...\n",
              "31839  1.0  1.0 -73.9869  1.0  0.0  0.0  0.0\n",
              "31840  1.0  1.0 -74.0163  1.0  1.0  0.0  0.0\n",
              "31841  1.0  1.0 -73.9900  1.0  0.0  0.0  0.0\n",
              "31842  1.0  0.0 -74.0101  1.0  0.0  0.0  0.0\n",
              "31843  1.0  2.0 -73.9172  0.0  0.0  0.0  0.0\n",
              "\n",
              "[31844 rows x 7 columns]"
            ]
          },
          "metadata": {
            "tags": []
          },
          "execution_count": 56
        }
      ]
    },
    {
      "cell_type": "code",
      "metadata": {
        "id": "As2rsnVPSet5"
      },
      "source": [
        "from sklearn.linear_model import LinearRegression, Ridge"
      ],
      "execution_count": null,
      "outputs": []
    },
    {
      "cell_type": "code",
      "metadata": {
        "id": "Je0qfx7fSrGx",
        "outputId": "020eb6fb-0630-4638-b062-103a42550cf2",
        "colab": {
          "base_uri": "https://localhost:8080/",
          "height": 54
        }
      },
      "source": [
        "model_r = Ridge(alpha = 1.0)\n",
        "model_r.fit(XTT_train,y_train)"
      ],
      "execution_count": null,
      "outputs": [
        {
          "output_type": "execute_result",
          "data": {
            "text/plain": [
              "Ridge(alpha=1.0, copy_X=True, fit_intercept=True, max_iter=None,\n",
              "      normalize=False, random_state=None, solver='auto', tol=0.001)"
            ]
          },
          "metadata": {
            "tags": []
          },
          "execution_count": 59
        }
      ]
    },
    {
      "cell_type": "code",
      "metadata": {
        "id": "UV-Pw2chTJ9S"
      },
      "source": [
        ""
      ],
      "execution_count": null,
      "outputs": []
    }
  ]
}