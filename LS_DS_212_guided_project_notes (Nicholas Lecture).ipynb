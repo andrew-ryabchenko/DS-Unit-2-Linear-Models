{
  "nbformat": 4,
  "nbformat_minor": 0,
  "metadata": {
    "colab": {
      "name": "Copy of 2020-10-27_212_guided-project-notes.ipynb",
      "provenance": [],
      "include_colab_link": true
    },
    "kernelspec": {
      "name": "python3",
      "display_name": "Python 3"
    }
  },
  "cells": [
    {
      "cell_type": "markdown",
      "metadata": {
        "id": "view-in-github",
        "colab_type": "text"
      },
      "source": [
        "<a href=\"https://colab.research.google.com/github/andrew-ryabchenko/DS-Unit-2-Linear-Models/blob/master/LS_DS_212_guided_project_notes%20(Nicholas%20Lecture).ipynb\" target=\"_parent\"><img src=\"https://colab.research.google.com/assets/colab-badge.svg\" alt=\"Open In Colab\"/></a>"
      ]
    },
    {
      "cell_type": "code",
      "metadata": {
        "id": "E5WTvJFCWQjx"
      },
      "source": [
        "import sys\n",
        "\n",
        "# If you're on Colab:\n",
        "if 'google.colab' in sys.modules:\n",
        "    DATA_PATH = 'https://raw.githubusercontent.com/LambdaSchool/DS-Unit-2-Applied-Modeling/master/data/'\n",
        "\n",
        "# If you're working locally:\n",
        "else:\n",
        "    DATA_PATH = '../data/'\n",
        "    \n",
        "# Ignore this Numpy warning when using Plotly Express:\n",
        "# FutureWarning: Method .ptp is deprecated and will be removed in a future version. Use numpy.ptp instead.\n",
        "import warnings\n",
        "warnings.filterwarnings(action='ignore', category=FutureWarning, module='numpy')"
      ],
      "execution_count": null,
      "outputs": []
    },
    {
      "cell_type": "code",
      "metadata": {
        "id": "cqtyxW1O4uh_"
      },
      "source": [
        "import matplotlib.pyplot as plt\n"
      ],
      "execution_count": null,
      "outputs": []
    },
    {
      "cell_type": "markdown",
      "metadata": {
        "id": "TGelVAREWyrN"
      },
      "source": [
        "# I. Wrangle Data"
      ]
    },
    {
      "cell_type": "markdown",
      "metadata": {
        "id": "wzyKDCxhdABb"
      },
      "source": [
        "### Import"
      ]
    },
    {
      "cell_type": "code",
      "metadata": {
        "id": "htqZ_oVnWxUl"
      },
      "source": [
        "# Import \n",
        "import pandas as pd\n",
        "df = pd.read_csv(DATA_PATH+'elections/bread_peace_voting.csv', index_col='Year')"
      ],
      "execution_count": null,
      "outputs": []
    },
    {
      "cell_type": "markdown",
      "metadata": {
        "id": "GeUEq0ARdB-l"
      },
      "source": [
        "### EDA"
      ]
    },
    {
      "cell_type": "code",
      "metadata": {
        "id": "6dhi743C3Fkp",
        "outputId": "9ab3ebf7-712d-4c7b-e44b-ea42b0eacee2",
        "colab": {
          "base_uri": "https://localhost:8080/",
          "height": 631
        }
      },
      "source": [
        "df"
      ],
      "execution_count": null,
      "outputs": [
        {
          "output_type": "execute_result",
          "data": {
            "text/html": [
              "<div>\n",
              "<style scoped>\n",
              "    .dataframe tbody tr th:only-of-type {\n",
              "        vertical-align: middle;\n",
              "    }\n",
              "\n",
              "    .dataframe tbody tr th {\n",
              "        vertical-align: top;\n",
              "    }\n",
              "\n",
              "    .dataframe thead th {\n",
              "        text-align: right;\n",
              "    }\n",
              "</style>\n",
              "<table border=\"1\" class=\"dataframe\">\n",
              "  <thead>\n",
              "    <tr style=\"text-align: right;\">\n",
              "      <th></th>\n",
              "      <th>Incumbent Party Candidate</th>\n",
              "      <th>Other Candidate</th>\n",
              "      <th>Average Recent Growth in Personal Incomes</th>\n",
              "      <th>US Military Fatalities per Million</th>\n",
              "      <th>Incumbent Party Vote Share</th>\n",
              "    </tr>\n",
              "    <tr>\n",
              "      <th>Year</th>\n",
              "      <th></th>\n",
              "      <th></th>\n",
              "      <th></th>\n",
              "      <th></th>\n",
              "      <th></th>\n",
              "    </tr>\n",
              "  </thead>\n",
              "  <tbody>\n",
              "    <tr>\n",
              "      <th>1952</th>\n",
              "      <td>Stevenson</td>\n",
              "      <td>Eisenhower</td>\n",
              "      <td>2.40</td>\n",
              "      <td>190</td>\n",
              "      <td>44.60</td>\n",
              "    </tr>\n",
              "    <tr>\n",
              "      <th>1956</th>\n",
              "      <td>Eisenhower</td>\n",
              "      <td>Stevenson</td>\n",
              "      <td>2.89</td>\n",
              "      <td>0</td>\n",
              "      <td>57.76</td>\n",
              "    </tr>\n",
              "    <tr>\n",
              "      <th>1960</th>\n",
              "      <td>Nixon</td>\n",
              "      <td>Kennedy</td>\n",
              "      <td>0.85</td>\n",
              "      <td>0</td>\n",
              "      <td>49.91</td>\n",
              "    </tr>\n",
              "    <tr>\n",
              "      <th>1964</th>\n",
              "      <td>Johnson</td>\n",
              "      <td>Goldwater</td>\n",
              "      <td>4.21</td>\n",
              "      <td>1</td>\n",
              "      <td>61.34</td>\n",
              "    </tr>\n",
              "    <tr>\n",
              "      <th>1968</th>\n",
              "      <td>Humphrey</td>\n",
              "      <td>Nixon</td>\n",
              "      <td>3.02</td>\n",
              "      <td>146</td>\n",
              "      <td>49.60</td>\n",
              "    </tr>\n",
              "    <tr>\n",
              "      <th>1972</th>\n",
              "      <td>Nixon</td>\n",
              "      <td>McGovern</td>\n",
              "      <td>3.62</td>\n",
              "      <td>0</td>\n",
              "      <td>61.79</td>\n",
              "    </tr>\n",
              "    <tr>\n",
              "      <th>1976</th>\n",
              "      <td>Ford</td>\n",
              "      <td>Carter</td>\n",
              "      <td>1.08</td>\n",
              "      <td>2</td>\n",
              "      <td>48.95</td>\n",
              "    </tr>\n",
              "    <tr>\n",
              "      <th>1980</th>\n",
              "      <td>Carter</td>\n",
              "      <td>Reagan</td>\n",
              "      <td>-0.39</td>\n",
              "      <td>0</td>\n",
              "      <td>44.70</td>\n",
              "    </tr>\n",
              "    <tr>\n",
              "      <th>1984</th>\n",
              "      <td>Reagan</td>\n",
              "      <td>Mondale</td>\n",
              "      <td>3.86</td>\n",
              "      <td>0</td>\n",
              "      <td>59.17</td>\n",
              "    </tr>\n",
              "    <tr>\n",
              "      <th>1988</th>\n",
              "      <td>Bush, Sr.</td>\n",
              "      <td>Dukakis</td>\n",
              "      <td>2.27</td>\n",
              "      <td>0</td>\n",
              "      <td>53.94</td>\n",
              "    </tr>\n",
              "    <tr>\n",
              "      <th>1992</th>\n",
              "      <td>Bush, Sr.</td>\n",
              "      <td>Clinton</td>\n",
              "      <td>0.38</td>\n",
              "      <td>0</td>\n",
              "      <td>46.55</td>\n",
              "    </tr>\n",
              "    <tr>\n",
              "      <th>1996</th>\n",
              "      <td>Clinton</td>\n",
              "      <td>Dole</td>\n",
              "      <td>1.04</td>\n",
              "      <td>0</td>\n",
              "      <td>54.74</td>\n",
              "    </tr>\n",
              "    <tr>\n",
              "      <th>2000</th>\n",
              "      <td>Gore</td>\n",
              "      <td>Bush, Jr.</td>\n",
              "      <td>2.36</td>\n",
              "      <td>0</td>\n",
              "      <td>50.27</td>\n",
              "    </tr>\n",
              "    <tr>\n",
              "      <th>2004</th>\n",
              "      <td>Bush, Jr.</td>\n",
              "      <td>Kerry</td>\n",
              "      <td>1.72</td>\n",
              "      <td>4</td>\n",
              "      <td>51.24</td>\n",
              "    </tr>\n",
              "    <tr>\n",
              "      <th>2008</th>\n",
              "      <td>McCain</td>\n",
              "      <td>Obama</td>\n",
              "      <td>0.10</td>\n",
              "      <td>14</td>\n",
              "      <td>46.32</td>\n",
              "    </tr>\n",
              "    <tr>\n",
              "      <th>2012</th>\n",
              "      <td>Obama</td>\n",
              "      <td>Romney</td>\n",
              "      <td>0.95</td>\n",
              "      <td>5</td>\n",
              "      <td>52.00</td>\n",
              "    </tr>\n",
              "    <tr>\n",
              "      <th>2016</th>\n",
              "      <td>Clinton</td>\n",
              "      <td>Trump</td>\n",
              "      <td>0.10</td>\n",
              "      <td>5</td>\n",
              "      <td>48.20</td>\n",
              "    </tr>\n",
              "  </tbody>\n",
              "</table>\n",
              "</div>"
            ],
            "text/plain": [
              "     Incumbent Party Candidate  ... Incumbent Party Vote Share\n",
              "Year                            ...                           \n",
              "1952                 Stevenson  ...                      44.60\n",
              "1956                Eisenhower  ...                      57.76\n",
              "1960                     Nixon  ...                      49.91\n",
              "1964                   Johnson  ...                      61.34\n",
              "1968                  Humphrey  ...                      49.60\n",
              "1972                     Nixon  ...                      61.79\n",
              "1976                      Ford  ...                      48.95\n",
              "1980                    Carter  ...                      44.70\n",
              "1984                    Reagan  ...                      59.17\n",
              "1988                 Bush, Sr.  ...                      53.94\n",
              "1992                 Bush, Sr.  ...                      46.55\n",
              "1996                   Clinton  ...                      54.74\n",
              "2000                      Gore  ...                      50.27\n",
              "2004                 Bush, Jr.  ...                      51.24\n",
              "2008                    McCain  ...                      46.32\n",
              "2012                     Obama  ...                      52.00\n",
              "2016                   Clinton  ...                      48.20\n",
              "\n",
              "[17 rows x 5 columns]"
            ]
          },
          "metadata": {
            "tags": []
          },
          "execution_count": 10
        }
      ]
    },
    {
      "cell_type": "code",
      "metadata": {
        "id": "Qn_To4c-4XCk"
      },
      "source": [
        "incomes = 'Average Recent Growth in Personal Incomes'\n",
        "fatalities = 'US Military Fatalities per Million \tIncumbent Party Vote'\n",
        "vote_share = 'Incumbent Party Vote Share'"
      ],
      "execution_count": null,
      "outputs": []
    },
    {
      "cell_type": "code",
      "metadata": {
        "id": "wNK50mVF4tZq",
        "outputId": "d14e4f1a-ac48-4ecc-9b25-96c3a78272dd",
        "colab": {
          "base_uri": "https://localhost:8080/",
          "height": 268
        }
      },
      "source": [
        "plt.scatter(df[incomes], df[vote_share]);"
      ],
      "execution_count": null,
      "outputs": [
        {
          "output_type": "display_data",
          "data": {
            "image/png": "[encoded data removed]",
            "text/plain": [
              "<Figure size 432x288 with 1 Axes>"
            ]
          },
          "metadata": {
            "tags": [],
            "needs_background": "light"
          }
        }
      ]
    },
    {
      "cell_type": "markdown",
      "metadata": {
        "id": "l688_ftdeT6O"
      },
      "source": [
        "# II. Split Data"
      ]
    },
    {
      "cell_type": "markdown",
      "metadata": {
        "id": "n4sFhCGRrBvy"
      },
      "source": [
        "### Split our **target vector** from our **feature matrix**"
      ]
    },
    {
      "cell_type": "code",
      "metadata": {
        "id": "6EYzsFd95UoD"
      },
      "source": [
        "y = df[vote_share]\n",
        "X = df[[incomes]]"
      ],
      "execution_count": null,
      "outputs": []
    },
    {
      "cell_type": "markdown",
      "metadata": {
        "id": "D3GFerxQrpIA"
      },
      "source": [
        "### Split our data into **training** and **test** sets"
      ]
    },
    {
      "cell_type": "code",
      "metadata": {
        "id": "hg-TMLqU6zgJ"
      },
      "source": [
        "cutoff = 2008\n",
        "mask = X.index < 2008"
      ],
      "execution_count": null,
      "outputs": []
    },
    {
      "cell_type": "code",
      "metadata": {
        "id": "XY0b4V3k66ZE"
      },
      "source": [
        "X_train, y_train = X.loc[mask], y.loc[mask]\n",
        "X_test, y_test = X.loc[~ mask], y.loc[~ mask]"
      ],
      "execution_count": null,
      "outputs": []
    },
    {
      "cell_type": "code",
      "metadata": {
        "id": "2GTPsreO7QJa"
      },
      "source": [
        "assert len(X_test) + len(X_train) == len(X)"
      ],
      "execution_count": null,
      "outputs": []
    },
    {
      "cell_type": "code",
      "metadata": {
        "id": "5phRZlJP5jvT"
      },
      "source": [
        "from sklearn.model_selection import train_test_split\n",
        "\n",
        "split = train_test_split()"
      ],
      "execution_count": null,
      "outputs": []
    },
    {
      "cell_type": "markdown",
      "metadata": {
        "id": "FivqV88YlglV"
      },
      "source": [
        "# III. Establish Baseline"
      ]
    },
    {
      "cell_type": "code",
      "metadata": {
        "id": "gpi5qgVL-mOG"
      },
      "source": [
        "y_pred = [y_train.mean()] * len(y_train)"
      ],
      "execution_count": null,
      "outputs": []
    },
    {
      "cell_type": "code",
      "metadata": {
        "id": "xzfRctJv-0fZ",
        "outputId": "13211c7b-f680-4eb5-8291-359a6257952b",
        "colab": {
          "base_uri": "https://localhost:8080/",
          "height": 40
        }
      },
      "source": [
        "from sklearn.metrics import mean_absolute_error, mean_squared_error, r2_score\n",
        "f'Baseline MAE: {mean_absolute_error(y_train, y_pred)}'"
      ],
      "execution_count": null,
      "outputs": [
        {
          "output_type": "execute_result",
          "data": {
            "application/vnd.google.colaboratory.intrinsic+json": {
              "type": "string"
            },
            "text/plain": [
              "'Baseline MAE: 4.846938775510204'"
            ]
          },
          "metadata": {
            "tags": []
          },
          "execution_count": 50
        }
      ]
    },
    {
      "cell_type": "code",
      "metadata": {
        "id": "j-jjrZpW_ECw",
        "outputId": "a3286966-3554-4b6a-87d7-f1d70f4228cc",
        "colab": {
          "base_uri": "https://localhost:8080/",
          "height": 268
        }
      },
      "source": [
        "plt.scatter(X_train, y_train)\n",
        "plt.plot(X_train, y_pred, color = 'r', label = 'Baseline Model')\n",
        "plt.legend();\n"
      ],
      "execution_count": null,
      "outputs": [
        {
          "output_type": "display_data",
          "data": {
            "image/png": "[encoded data removed]",
            "text/plain": [
              "<Figure size 432x288 with 1 Axes>"
            ]
          },
          "metadata": {
            "tags": [],
            "needs_background": "light"
          }
        }
      ]
    },
    {
      "cell_type": "markdown",
      "metadata": {
        "id": "wRx_D8Vjoyq9"
      },
      "source": [
        "# IV. Build Models"
      ]
    },
    {
      "cell_type": "code",
      "metadata": {
        "id": "b8V2aW-z_nEI"
      },
      "source": [
        "from sklearn.linear_model import LinearRegression"
      ],
      "execution_count": null,
      "outputs": []
    },
    {
      "cell_type": "code",
      "metadata": {
        "id": "pNhWtxRu_xI4"
      },
      "source": [
        "model = LinearRegression()"
      ],
      "execution_count": null,
      "outputs": []
    },
    {
      "cell_type": "code",
      "metadata": {
        "id": "xpHj5xd3_4yp"
      },
      "source": [
        "model.fit(X_train, y_train);"
      ],
      "execution_count": null,
      "outputs": []
    },
    {
      "cell_type": "markdown",
      "metadata": {
        "id": "A-VQpOHgqlae"
      },
      "source": [
        "# V. Check Metrics\n",
        "\n",
        "### Mean Absolute Error"
      ]
    },
    {
      "cell_type": "code",
      "metadata": {
        "id": "v2VHZmTpAT6v",
        "outputId": "6a23d7a7-0a58-462b-ac12-75d5e3789a19",
        "colab": {
          "base_uri": "https://localhost:8080/",
          "height": 72
        }
      },
      "source": [
        "print(f'Training data MAE: {mean_absolute_error(y_train, model.predict(X_train))}')\n",
        "print(f'Testing data MAE: {mean_absolute_error(y_test, model.predict(X_test))}')\n",
        "print(f'Baseline MAE: {mean_absolute_error(y_train, y_pred)}')"
      ],
      "execution_count": null,
      "outputs": [
        {
          "output_type": "stream",
          "text": [
            "Training data MAE: 2.645479454315596\n",
            "Testing data MAE: 1.7998717748375863\n",
            "Baseline MAE: 4.846938775510204\n"
          ],
          "name": "stdout"
        }
      ]
    },
    {
      "cell_type": "markdown",
      "metadata": {
        "id": "MuPtGBMGvSA4"
      },
      "source": [
        "### Root Mean Squared Error"
      ]
    },
    {
      "cell_type": "code",
      "metadata": {
        "id": "BjLydrjNDxSa",
        "outputId": "5c63396d-be77-45c2-e2a1-353bd651dff2",
        "colab": {
          "base_uri": "https://localhost:8080/",
          "height": 54
        }
      },
      "source": [
        "print(f'Training RMSE: {mean_squared_error(y_train, model.predict(X_train), squared=False)}')\n",
        "print(f'Test RMSE: {mean_squared_error(y_test, model.predict(X_test), squared=False)}')"
      ],
      "execution_count": null,
      "outputs": [
        {
          "output_type": "stream",
          "text": [
            "Training RMSE: 3.6773568396257406\n",
            "Test RMSE: 2.180652086836372\n"
          ],
          "name": "stdout"
        }
      ]
    },
    {
      "cell_type": "markdown",
      "metadata": {
        "id": "BnSZ4IOJvWxD"
      },
      "source": [
        "### $R^2$"
      ]
    },
    {
      "cell_type": "code",
      "metadata": {
        "id": "Cgx3sJJeErSV",
        "outputId": "95ec5c8f-bb4e-4283-bed7-2093d532c0b0",
        "colab": {
          "base_uri": "https://localhost:8080/",
          "height": 54
        }
      },
      "source": [
        "print(f'Training r2: {r2_score(y_train, model.predict(X_train))}')\n",
        "print(f'Test r2: {r2_score(y_test, model.predict(X_test))}')"
      ],
      "execution_count": null,
      "outputs": [
        {
          "output_type": "stream",
          "text": [
            "Training r2: 0.5663905156461234\n",
            "Test r2: 0.14809080764669635\n"
          ],
          "name": "stdout"
        }
      ]
    },
    {
      "cell_type": "markdown",
      "metadata": {
        "id": "ndH-ZVZE84Tt"
      },
      "source": [
        "# VI. Communicate Results"
      ]
    },
    {
      "cell_type": "code",
      "metadata": {
        "id": "udUw-VdlEjEO"
      },
      "source": [
        ""
      ],
      "execution_count": null,
      "outputs": []
    }
  ]
}